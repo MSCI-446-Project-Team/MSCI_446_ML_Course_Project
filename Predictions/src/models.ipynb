{
 "cells": [
  {
   "cell_type": "code",
   "execution_count": 75,
   "metadata": {},
   "outputs": [],
   "source": [
    "import pandas as pd\n",
    "import numpy as np\n",
    "from sklearn.model_selection import train_test_split\n",
    "import os\n",
    "import torch\n",
    "from torch import nn\n",
    "from torch.utils.data import DataLoader\n",
    "from torchvision import datasets, transforms\n",
    "from torch.utils.data import TensorDataset, DataLoader\n",
    "import sys\n",
    "sys.path.append('../Models')\n",
    "from models import TimeSeriesNeuralNetwork, LSTMTimeSeriesModel\n",
    "from sklearn.discriminant_analysis import StandardScaler\n",
    "import torch.optim as optim\n",
    "from sklearn.metrics import mean_squared_error\n",
    "from sklearn.metrics import r2_score\n",
    "import matplotlib.pyplot as plt\n"
   ]
  },
  {
   "cell_type": "markdown",
   "metadata": {},
   "source": [
    "### Reading the merged dataframe"
   ]
  },
  {
   "cell_type": "code",
   "execution_count": 76,
   "metadata": {},
   "outputs": [
    {
     "data": {
      "text/html": [
       "<div>\n",
       "<style scoped>\n",
       "    .dataframe tbody tr th:only-of-type {\n",
       "        vertical-align: middle;\n",
       "    }\n",
       "\n",
       "    .dataframe tbody tr th {\n",
       "        vertical-align: top;\n",
       "    }\n",
       "\n",
       "    .dataframe thead th {\n",
       "        text-align: right;\n",
       "    }\n",
       "</style>\n",
       "<table border=\"1\" class=\"dataframe\">\n",
       "  <thead>\n",
       "    <tr style=\"text-align: right;\">\n",
       "      <th></th>\n",
       "      <th>datetime_beginning_ept</th>\n",
       "      <th>MIDATL_solar</th>\n",
       "      <th>OTHER_solar</th>\n",
       "      <th>RFC_solar</th>\n",
       "      <th>RTO_solar</th>\n",
       "      <th>SOUTH_solar</th>\n",
       "      <th>WEST_solar</th>\n",
       "      <th>MIDATL_wind</th>\n",
       "      <th>OTHER_wind</th>\n",
       "      <th>RFC_wind</th>\n",
       "      <th>...</th>\n",
       "      <th>DOM_forecast</th>\n",
       "      <th>DUQ_forecast</th>\n",
       "      <th>EKPC_forecast</th>\n",
       "      <th>MIDATL_forecast</th>\n",
       "      <th>RTO_forecast</th>\n",
       "      <th>DPL_historical_da</th>\n",
       "      <th>forecast_gen_outage_mw_rto</th>\n",
       "      <th>forecast_gen_outage_mw_west</th>\n",
       "      <th>forecast_gen_outage_mw_other</th>\n",
       "      <th>Henry Hub Natural Gas Spot Price (Dollars per Million Btu)</th>\n",
       "    </tr>\n",
       "  </thead>\n",
       "  <tbody>\n",
       "    <tr>\n",
       "      <th>0</th>\n",
       "      <td>18/02/2022 00:00:00 AM</td>\n",
       "      <td>0.282</td>\n",
       "      <td>0.0</td>\n",
       "      <td>0.041</td>\n",
       "      <td>0.0</td>\n",
       "      <td>0.0</td>\n",
       "      <td>0.0</td>\n",
       "      <td>957.466</td>\n",
       "      <td>0.000</td>\n",
       "      <td>5625.364</td>\n",
       "      <td>...</td>\n",
       "      <td>9663.600000</td>\n",
       "      <td>1254.400000</td>\n",
       "      <td>1313.600000</td>\n",
       "      <td>24893.800000</td>\n",
       "      <td>78417.800000</td>\n",
       "      <td>38.95</td>\n",
       "      <td>2928.770833</td>\n",
       "      <td>257.166667</td>\n",
       "      <td>2671.604167</td>\n",
       "      <td>4.61</td>\n",
       "    </tr>\n",
       "    <tr>\n",
       "      <th>1</th>\n",
       "      <td>18/02/2022 01:00:00 AM</td>\n",
       "      <td>0.246</td>\n",
       "      <td>0.0</td>\n",
       "      <td>0.000</td>\n",
       "      <td>0.0</td>\n",
       "      <td>0.0</td>\n",
       "      <td>0.0</td>\n",
       "      <td>939.014</td>\n",
       "      <td>0.000</td>\n",
       "      <td>5291.098</td>\n",
       "      <td>...</td>\n",
       "      <td>9394.800000</td>\n",
       "      <td>1233.000000</td>\n",
       "      <td>1334.200000</td>\n",
       "      <td>24153.400000</td>\n",
       "      <td>76642.200000</td>\n",
       "      <td>36.43</td>\n",
       "      <td>2928.770833</td>\n",
       "      <td>257.166667</td>\n",
       "      <td>2671.604167</td>\n",
       "      <td>4.61</td>\n",
       "    </tr>\n",
       "    <tr>\n",
       "      <th>2</th>\n",
       "      <td>18/02/2022 02:00:00 AM</td>\n",
       "      <td>0.300</td>\n",
       "      <td>0.0</td>\n",
       "      <td>0.060</td>\n",
       "      <td>0.0</td>\n",
       "      <td>0.0</td>\n",
       "      <td>0.0</td>\n",
       "      <td>904.381</td>\n",
       "      <td>0.000</td>\n",
       "      <td>4676.792</td>\n",
       "      <td>...</td>\n",
       "      <td>9239.400000</td>\n",
       "      <td>1224.200000</td>\n",
       "      <td>1365.400000</td>\n",
       "      <td>23656.600000</td>\n",
       "      <td>75794.400000</td>\n",
       "      <td>36.36</td>\n",
       "      <td>2928.770833</td>\n",
       "      <td>257.166667</td>\n",
       "      <td>2671.604167</td>\n",
       "      <td>4.61</td>\n",
       "    </tr>\n",
       "    <tr>\n",
       "      <th>3</th>\n",
       "      <td>18/02/2022 03:00:00 AM</td>\n",
       "      <td>0.254</td>\n",
       "      <td>0.0</td>\n",
       "      <td>0.015</td>\n",
       "      <td>0.0</td>\n",
       "      <td>0.0</td>\n",
       "      <td>0.0</td>\n",
       "      <td>889.508</td>\n",
       "      <td>0.000</td>\n",
       "      <td>3968.681</td>\n",
       "      <td>...</td>\n",
       "      <td>9250.600000</td>\n",
       "      <td>1229.000000</td>\n",
       "      <td>1428.800000</td>\n",
       "      <td>23673.400000</td>\n",
       "      <td>75983.400000</td>\n",
       "      <td>36.59</td>\n",
       "      <td>2928.770833</td>\n",
       "      <td>257.166667</td>\n",
       "      <td>2671.604167</td>\n",
       "      <td>4.61</td>\n",
       "    </tr>\n",
       "    <tr>\n",
       "      <th>4</th>\n",
       "      <td>18/02/2022 04:00:00 AM</td>\n",
       "      <td>0.270</td>\n",
       "      <td>0.0</td>\n",
       "      <td>0.034</td>\n",
       "      <td>0.0</td>\n",
       "      <td>0.0</td>\n",
       "      <td>0.0</td>\n",
       "      <td>863.901</td>\n",
       "      <td>0.000</td>\n",
       "      <td>3413.737</td>\n",
       "      <td>...</td>\n",
       "      <td>9458.500000</td>\n",
       "      <td>1270.166667</td>\n",
       "      <td>1537.000000</td>\n",
       "      <td>24108.166667</td>\n",
       "      <td>77849.166667</td>\n",
       "      <td>38.60</td>\n",
       "      <td>2928.770833</td>\n",
       "      <td>257.166667</td>\n",
       "      <td>2671.604167</td>\n",
       "      <td>4.61</td>\n",
       "    </tr>\n",
       "    <tr>\n",
       "      <th>...</th>\n",
       "      <td>...</td>\n",
       "      <td>...</td>\n",
       "      <td>...</td>\n",
       "      <td>...</td>\n",
       "      <td>...</td>\n",
       "      <td>...</td>\n",
       "      <td>...</td>\n",
       "      <td>...</td>\n",
       "      <td>...</td>\n",
       "      <td>...</td>\n",
       "      <td>...</td>\n",
       "      <td>...</td>\n",
       "      <td>...</td>\n",
       "      <td>...</td>\n",
       "      <td>...</td>\n",
       "      <td>...</td>\n",
       "      <td>...</td>\n",
       "      <td>...</td>\n",
       "      <td>...</td>\n",
       "      <td>...</td>\n",
       "      <td>...</td>\n",
       "    </tr>\n",
       "    <tr>\n",
       "      <th>17251</th>\n",
       "      <td>06/02/2024 19:00:00 PM</td>\n",
       "      <td>0.000</td>\n",
       "      <td>0.0</td>\n",
       "      <td>0.000</td>\n",
       "      <td>0.0</td>\n",
       "      <td>0.0</td>\n",
       "      <td>0.0</td>\n",
       "      <td>61.862</td>\n",
       "      <td>32.860</td>\n",
       "      <td>724.760</td>\n",
       "      <td>...</td>\n",
       "      <td>16275.111111</td>\n",
       "      <td>1601.333333</td>\n",
       "      <td>1941.666667</td>\n",
       "      <td>36055.333333</td>\n",
       "      <td>104239.777778</td>\n",
       "      <td>38.47</td>\n",
       "      <td>1981.593407</td>\n",
       "      <td>123.285714</td>\n",
       "      <td>1858.307692</td>\n",
       "      <td>2.10</td>\n",
       "    </tr>\n",
       "    <tr>\n",
       "      <th>17252</th>\n",
       "      <td>06/02/2024 20:00:00 PM</td>\n",
       "      <td>0.000</td>\n",
       "      <td>0.0</td>\n",
       "      <td>0.000</td>\n",
       "      <td>0.0</td>\n",
       "      <td>0.0</td>\n",
       "      <td>0.0</td>\n",
       "      <td>53.747</td>\n",
       "      <td>32.555</td>\n",
       "      <td>1023.869</td>\n",
       "      <td>...</td>\n",
       "      <td>16309.222222</td>\n",
       "      <td>1588.444444</td>\n",
       "      <td>1977.777778</td>\n",
       "      <td>35548.333333</td>\n",
       "      <td>103658.666667</td>\n",
       "      <td>34.93</td>\n",
       "      <td>1981.593407</td>\n",
       "      <td>123.285714</td>\n",
       "      <td>1858.307692</td>\n",
       "      <td>2.10</td>\n",
       "    </tr>\n",
       "    <tr>\n",
       "      <th>17253</th>\n",
       "      <td>06/02/2024 21:00:00 PM</td>\n",
       "      <td>0.000</td>\n",
       "      <td>0.0</td>\n",
       "      <td>0.000</td>\n",
       "      <td>0.0</td>\n",
       "      <td>0.0</td>\n",
       "      <td>0.0</td>\n",
       "      <td>55.560</td>\n",
       "      <td>31.433</td>\n",
       "      <td>1273.961</td>\n",
       "      <td>...</td>\n",
       "      <td>16058.444444</td>\n",
       "      <td>1552.333333</td>\n",
       "      <td>1971.222222</td>\n",
       "      <td>34477.000000</td>\n",
       "      <td>101522.777778</td>\n",
       "      <td>32.97</td>\n",
       "      <td>1981.593407</td>\n",
       "      <td>123.285714</td>\n",
       "      <td>1858.307692</td>\n",
       "      <td>2.10</td>\n",
       "    </tr>\n",
       "    <tr>\n",
       "      <th>17254</th>\n",
       "      <td>06/02/2024 22:00:00 PM</td>\n",
       "      <td>0.000</td>\n",
       "      <td>0.0</td>\n",
       "      <td>0.000</td>\n",
       "      <td>0.0</td>\n",
       "      <td>0.0</td>\n",
       "      <td>0.0</td>\n",
       "      <td>41.071</td>\n",
       "      <td>29.998</td>\n",
       "      <td>1428.095</td>\n",
       "      <td>...</td>\n",
       "      <td>15672.400000</td>\n",
       "      <td>1497.200000</td>\n",
       "      <td>1927.400000</td>\n",
       "      <td>32638.700000</td>\n",
       "      <td>97698.300000</td>\n",
       "      <td>30.20</td>\n",
       "      <td>1981.593407</td>\n",
       "      <td>123.285714</td>\n",
       "      <td>1858.307692</td>\n",
       "      <td>2.10</td>\n",
       "    </tr>\n",
       "    <tr>\n",
       "      <th>17255</th>\n",
       "      <td>06/02/2024 23:00:00 PM</td>\n",
       "      <td>0.000</td>\n",
       "      <td>0.0</td>\n",
       "      <td>0.000</td>\n",
       "      <td>0.0</td>\n",
       "      <td>0.0</td>\n",
       "      <td>0.0</td>\n",
       "      <td>51.711</td>\n",
       "      <td>28.623</td>\n",
       "      <td>1894.910</td>\n",
       "      <td>...</td>\n",
       "      <td>15264.400000</td>\n",
       "      <td>1442.200000</td>\n",
       "      <td>1890.500000</td>\n",
       "      <td>31068.100000</td>\n",
       "      <td>94066.500000</td>\n",
       "      <td>27.97</td>\n",
       "      <td>1981.593407</td>\n",
       "      <td>123.285714</td>\n",
       "      <td>1858.307692</td>\n",
       "      <td>2.10</td>\n",
       "    </tr>\n",
       "  </tbody>\n",
       "</table>\n",
       "<p>17256 rows × 29 columns</p>\n",
       "</div>"
      ],
      "text/plain": [
       "       datetime_beginning_ept  MIDATL_solar  OTHER_solar  RFC_solar  \\\n",
       "0      18/02/2022 00:00:00 AM         0.282          0.0      0.041   \n",
       "1      18/02/2022 01:00:00 AM         0.246          0.0      0.000   \n",
       "2      18/02/2022 02:00:00 AM         0.300          0.0      0.060   \n",
       "3      18/02/2022 03:00:00 AM         0.254          0.0      0.015   \n",
       "4      18/02/2022 04:00:00 AM         0.270          0.0      0.034   \n",
       "...                       ...           ...          ...        ...   \n",
       "17251  06/02/2024 19:00:00 PM         0.000          0.0      0.000   \n",
       "17252  06/02/2024 20:00:00 PM         0.000          0.0      0.000   \n",
       "17253  06/02/2024 21:00:00 PM         0.000          0.0      0.000   \n",
       "17254  06/02/2024 22:00:00 PM         0.000          0.0      0.000   \n",
       "17255  06/02/2024 23:00:00 PM         0.000          0.0      0.000   \n",
       "\n",
       "       RTO_solar  SOUTH_solar  WEST_solar  MIDATL_wind  OTHER_wind  RFC_wind  \\\n",
       "0            0.0          0.0         0.0      957.466       0.000  5625.364   \n",
       "1            0.0          0.0         0.0      939.014       0.000  5291.098   \n",
       "2            0.0          0.0         0.0      904.381       0.000  4676.792   \n",
       "3            0.0          0.0         0.0      889.508       0.000  3968.681   \n",
       "4            0.0          0.0         0.0      863.901       0.000  3413.737   \n",
       "...          ...          ...         ...          ...         ...       ...   \n",
       "17251        0.0          0.0         0.0       61.862      32.860   724.760   \n",
       "17252        0.0          0.0         0.0       53.747      32.555  1023.869   \n",
       "17253        0.0          0.0         0.0       55.560      31.433  1273.961   \n",
       "17254        0.0          0.0         0.0       41.071      29.998  1428.095   \n",
       "17255        0.0          0.0         0.0       51.711      28.623  1894.910   \n",
       "\n",
       "       ...  DOM_forecast  DUQ_forecast  EKPC_forecast  MIDATL_forecast  \\\n",
       "0      ...   9663.600000   1254.400000    1313.600000     24893.800000   \n",
       "1      ...   9394.800000   1233.000000    1334.200000     24153.400000   \n",
       "2      ...   9239.400000   1224.200000    1365.400000     23656.600000   \n",
       "3      ...   9250.600000   1229.000000    1428.800000     23673.400000   \n",
       "4      ...   9458.500000   1270.166667    1537.000000     24108.166667   \n",
       "...    ...           ...           ...            ...              ...   \n",
       "17251  ...  16275.111111   1601.333333    1941.666667     36055.333333   \n",
       "17252  ...  16309.222222   1588.444444    1977.777778     35548.333333   \n",
       "17253  ...  16058.444444   1552.333333    1971.222222     34477.000000   \n",
       "17254  ...  15672.400000   1497.200000    1927.400000     32638.700000   \n",
       "17255  ...  15264.400000   1442.200000    1890.500000     31068.100000   \n",
       "\n",
       "        RTO_forecast  DPL_historical_da  forecast_gen_outage_mw_rto  \\\n",
       "0       78417.800000              38.95                 2928.770833   \n",
       "1       76642.200000              36.43                 2928.770833   \n",
       "2       75794.400000              36.36                 2928.770833   \n",
       "3       75983.400000              36.59                 2928.770833   \n",
       "4       77849.166667              38.60                 2928.770833   \n",
       "...              ...                ...                         ...   \n",
       "17251  104239.777778              38.47                 1981.593407   \n",
       "17252  103658.666667              34.93                 1981.593407   \n",
       "17253  101522.777778              32.97                 1981.593407   \n",
       "17254   97698.300000              30.20                 1981.593407   \n",
       "17255   94066.500000              27.97                 1981.593407   \n",
       "\n",
       "       forecast_gen_outage_mw_west  forecast_gen_outage_mw_other  \\\n",
       "0                       257.166667                   2671.604167   \n",
       "1                       257.166667                   2671.604167   \n",
       "2                       257.166667                   2671.604167   \n",
       "3                       257.166667                   2671.604167   \n",
       "4                       257.166667                   2671.604167   \n",
       "...                            ...                           ...   \n",
       "17251                   123.285714                   1858.307692   \n",
       "17252                   123.285714                   1858.307692   \n",
       "17253                   123.285714                   1858.307692   \n",
       "17254                   123.285714                   1858.307692   \n",
       "17255                   123.285714                   1858.307692   \n",
       "\n",
       "       Henry Hub Natural Gas Spot Price (Dollars per Million Btu)  \n",
       "0                                                   4.61           \n",
       "1                                                   4.61           \n",
       "2                                                   4.61           \n",
       "3                                                   4.61           \n",
       "4                                                   4.61           \n",
       "...                                                  ...           \n",
       "17251                                               2.10           \n",
       "17252                                               2.10           \n",
       "17253                                               2.10           \n",
       "17254                                               2.10           \n",
       "17255                                               2.10           \n",
       "\n",
       "[17256 rows x 29 columns]"
      ]
     },
     "execution_count": 76,
     "metadata": {},
     "output_type": "execute_result"
    }
   ],
   "source": [
    "data = pd.read_csv('../Data/Final_table.csv')\n",
    "data"
   ]
  },
  {
   "cell_type": "markdown",
   "metadata": {},
   "source": [
    "### Splitting the dataframe into test and training sets"
   ]
  },
  {
   "cell_type": "code",
   "execution_count": 77,
   "metadata": {},
   "outputs": [],
   "source": [
    "feature_var = data.iloc[:,[1,2,3,4,5,6,7,8,9,10,11,12,13,14,15,16,17,18,19,20,21,22,23,25,26,27,28]]\n",
    "target_var = data['DPL_historical_da']\n",
    "\n",
    "X_train, X_test, y_train, y_test = train_test_split(feature_var, target_var, test_size=0.2, random_state=156)"
   ]
  },
  {
   "cell_type": "markdown",
   "metadata": {},
   "source": [
    "# Feature Selection"
   ]
  },
  {
   "cell_type": "code",
   "execution_count": 78,
   "metadata": {},
   "outputs": [
    {
     "data": {
      "text/plain": [
       "array(['APS_forecast', 'MIDATL_forecast', 'RTO_forecast',\n",
       "       'Henry Hub Natural Gas Spot Price (Dollars per Million Btu)'],\n",
       "      dtype=object)"
      ]
     },
     "execution_count": 78,
     "metadata": {},
     "output_type": "execute_result"
    }
   ],
   "source": [
    "from sklearn.feature_selection import SelectKBest\n",
    "from sklearn.feature_selection import f_classif\n",
    "\n",
    "# Initiate the SelectKBest model\n",
    "model_fc = SelectKBest(score_func=f_classif, k=4)\n",
    "\n",
    "# Fit the model to all data\n",
    "diabetes_new = model_fc.fit(X_train, y_train)\n",
    "\n",
    "# Check the selected features\n",
    "diabetes_new.get_feature_names_out()"
   ]
  },
  {
   "cell_type": "code",
   "execution_count": 79,
   "metadata": {},
   "outputs": [
    {
     "data": {
      "text/plain": [
       "Index(['datetime_beginning_ept', 'MIDATL_solar', 'OTHER_solar', 'RFC_solar',\n",
       "       'RTO_solar', 'SOUTH_solar', 'WEST_solar', 'MIDATL_wind', 'OTHER_wind',\n",
       "       'RFC_wind', 'RTO_wind', 'SOUTH_wind', 'WEST_wind', 'AEP_forecast',\n",
       "       'APS_forecast', 'ATSI_forecast', 'COMED_forecast', 'DAY_forecast',\n",
       "       'DEOK_forecast', 'DOM_forecast', 'DUQ_forecast', 'EKPC_forecast',\n",
       "       'MIDATL_forecast', 'RTO_forecast', 'DPL_historical_da',\n",
       "       'forecast_gen_outage_mw_rto', 'forecast_gen_outage_mw_west',\n",
       "       'forecast_gen_outage_mw_other',\n",
       "       'Henry Hub Natural Gas Spot Price (Dollars per Million Btu)'],\n",
       "      dtype='object')"
      ]
     },
     "execution_count": 79,
     "metadata": {},
     "output_type": "execute_result"
    }
   ],
   "source": [
    "data.columns"
   ]
  },
  {
   "cell_type": "markdown",
   "metadata": {},
   "source": [
    "# Linear Regression"
   ]
  },
  {
   "cell_type": "markdown",
   "metadata": {},
   "source": [
    "# Neural Network"
   ]
  },
  {
   "cell_type": "markdown",
   "metadata": {},
   "source": [
    "## Functions for Module"
   ]
  },
  {
   "cell_type": "code",
   "execution_count": 80,
   "metadata": {},
   "outputs": [],
   "source": [
    "def train_model (model, train_loader, criterion, optimizer, device, num_epochs=100):\n",
    "    epoch_losses = []\n",
    "\n",
    "    for epoch in range(num_epochs):\n",
    "        batch_losses = []  \n",
    "        for inputs, targets in train_loader:\n",
    "            inputs, targets = inputs.to(device), targets.to(device)\n",
    "            optimizer.zero_grad()\n",
    "            outputs = model(inputs)\n",
    "            loss = criterion(outputs, targets)\n",
    "            loss.backward()\n",
    "            optimizer.step()\n",
    "            batch_losses.append(loss.item())\n",
    "        epoch_loss = sum(batch_losses) / len(batch_losses)\n",
    "        epoch_losses.append(epoch_loss)\n",
    "        print(f'Epoch {epoch+1}, Loss: {epoch_loss}')\n",
    "\n",
    "    return epoch_losses"
   ]
  },
  {
   "cell_type": "code",
   "execution_count": 81,
   "metadata": {},
   "outputs": [],
   "source": [
    "def plot_loss_over_epochs(epoch_losses):\n",
    "    plt.figure(figsize=(10, 6))\n",
    "    plt.plot(epoch_losses, label='Training Loss')\n",
    "    plt.xlabel('Epoch')\n",
    "    plt.ylabel('Loss')\n",
    "    plt.title('Training Loss Over Epochs')\n",
    "    plt.legend()\n",
    "    plt.show()"
   ]
  },
  {
   "cell_type": "code",
   "execution_count": 82,
   "metadata": {},
   "outputs": [],
   "source": [
    "def test_model(model, X_test_tensor, y_test_tensor):\n",
    "    with torch.no_grad():\n",
    " \n",
    "        y_pred_tensor = model(X_test_tensor)\n",
    "\n",
    "        y_pred = y_pred_tensor.cpu().numpy()\n",
    "        y_true = y_test_tensor.cpu().numpy()\n",
    "\n",
    "        print(f\"predicted value: {y_pred.shape}\", f\"true value: {y_true.shape}\")\n",
    "    \n",
    "    mse = mean_squared_error(y_true, y_pred)\n",
    "    print(f\"Mean Squared Error on the Test Set: {mse}\")\n",
    "\n",
    "    r2 = r2_score(y_true, y_pred)\n",
    "    print(f\"R^2 Score: {r2}\")\n",
    "\n",
    "    return y_pred, y_true, mse, r2\n"
   ]
  },
  {
   "cell_type": "code",
   "execution_count": 83,
   "metadata": {},
   "outputs": [],
   "source": [
    "def plot_actual_predicted(y_true, y_pred):\n",
    "    plt.figure(figsize=(10, 6))\n",
    "    plt.plot(y_true, label='Actual Values')\n",
    "    plt.plot(y_pred, label='Predicted Values', alpha=0.75)\n",
    "    plt.xlabel('Sample Index')\n",
    "    plt.ylabel('Value')\n",
    "    plt.title('Actual vs. Predicted Values')\n",
    "    plt.legend()\n",
    "    plt.show()\n",
    "    "
   ]
  },
  {
   "cell_type": "code",
   "execution_count": 84,
   "metadata": {},
   "outputs": [],
   "source": [
    "def plot_distribution_error(errors):\n",
    "    plt.figure(figsize=(10, 6))\n",
    "    plt.hist(errors, bins=25, edgecolor='k', alpha=0.7)\n",
    "    plt.xlabel('Error Value')\n",
    "    plt.ylabel('Count')\n",
    "    plt.title('Distribution of Prediction Errors')\n",
    "    plt.show()"
   ]
  },
  {
   "cell_type": "code",
   "execution_count": 85,
   "metadata": {},
   "outputs": [],
   "source": [
    "## Convert the data to tensor"
   ]
  },
  {
   "cell_type": "code",
   "execution_count": 86,
   "metadata": {},
   "outputs": [],
   "source": [
    "device = torch.device('cuda' if torch.cuda.is_available() else 'cpu')"
   ]
  },
  {
   "cell_type": "code",
   "execution_count": 87,
   "metadata": {},
   "outputs": [],
   "source": [
    "X_tensor = torch.tensor(feature_var.to_numpy(), dtype=torch.float32)\n",
    "y_tensor = torch.tensor(target_var.to_numpy(), dtype=torch.float32)"
   ]
  },
  {
   "cell_type": "code",
   "execution_count": 88,
   "metadata": {},
   "outputs": [],
   "source": [
    "X_train, X_test, y_train, y_test = train_test_split(X_tensor, y_tensor, test_size=0.2, random_state=42)"
   ]
  },
  {
   "cell_type": "code",
   "execution_count": 89,
   "metadata": {},
   "outputs": [],
   "source": [
    "train_dataset = TensorDataset(X_train, y_train)\n",
    "train_loader = DataLoader(train_dataset, batch_size=64, shuffle=True)\n"
   ]
  },
  {
   "cell_type": "markdown",
   "metadata": {},
   "source": [
    "## First Network"
   ]
  },
  {
   "cell_type": "code",
   "execution_count": 90,
   "metadata": {},
   "outputs": [],
   "source": [
    "model = TimeSeriesNeuralNetwork(sequence_length=1, num_features=X_train.shape[1], output_size=1).to(device)\n",
    "criterion = nn.MSELoss()\n",
    "optimizer = optim.Adam(model.parameters(), lr=0.001)"
   ]
  },
  {
   "cell_type": "code",
   "execution_count": 91,
   "metadata": {},
   "outputs": [
    {
     "name": "stderr",
     "output_type": "stream",
     "text": [
      "/Users/jeevanparmar/Uni/Third_Year/MSCI446/MSCI_446_ML_Course_Project/venv/lib/python3.11/site-packages/torch/nn/modules/loss.py:535: UserWarning: Using a target size (torch.Size([64])) that is different to the input size (torch.Size([64, 1])). This will likely lead to incorrect results due to broadcasting. Please ensure they have the same size.\n",
      "  return F.mse_loss(input, target, reduction=self.reduction)\n",
      "/Users/jeevanparmar/Uni/Third_Year/MSCI446/MSCI_446_ML_Course_Project/venv/lib/python3.11/site-packages/torch/nn/modules/loss.py:535: UserWarning: Using a target size (torch.Size([44])) that is different to the input size (torch.Size([44, 1])). This will likely lead to incorrect results due to broadcasting. Please ensure they have the same size.\n",
      "  return F.mse_loss(input, target, reduction=self.reduction)\n"
     ]
    },
    {
     "name": "stdout",
     "output_type": "stream",
     "text": [
      "Epoch 1, Loss: 1864750.6189089175\n",
      "Epoch 2, Loss: 3245.111577351888\n",
      "Epoch 3, Loss: 3089.2465701633027\n",
      "Epoch 4, Loss: 3191.645164489746\n",
      "Epoch 5, Loss: 3111.739613003201\n",
      "Epoch 6, Loss: 3201.3226284450957\n",
      "Epoch 7, Loss: 3149.959650958026\n",
      "Epoch 8, Loss: 3473.631239997016\n",
      "Epoch 9, Loss: 3327.17118468108\n",
      "Epoch 10, Loss: 3798.876521781639\n",
      "Epoch 11, Loss: 4021.044390360514\n",
      "Epoch 12, Loss: 4986.792611863878\n",
      "Epoch 13, Loss: 4058.6316952175566\n",
      "Epoch 14, Loss: 5473.008310671205\n",
      "Epoch 15, Loss: 15707.979430022064\n",
      "Epoch 16, Loss: 9786.373486554181\n",
      "Epoch 17, Loss: 6450.184892725061\n",
      "Epoch 18, Loss: 4887.820554380064\n",
      "Epoch 19, Loss: 4731.15145082827\n",
      "Epoch 20, Loss: 6579.277267456055\n",
      "Epoch 21, Loss: 17357.636186952943\n",
      "Epoch 22, Loss: 6503.035091258861\n",
      "Epoch 23, Loss: 3233.260438141999\n",
      "Epoch 24, Loss: 3381.02963369864\n",
      "Epoch 25, Loss: 4111.442199707031\n",
      "Epoch 26, Loss: 3320.5938217728226\n",
      "Epoch 27, Loss: 3579.905026188603\n",
      "Epoch 28, Loss: 4682.126948321307\n",
      "Epoch 29, Loss: 3230.2416593763564\n",
      "Epoch 30, Loss: 3413.3944541083442\n",
      "Epoch 31, Loss: 3659.922001308865\n",
      "Epoch 32, Loss: 3342.784356858995\n",
      "Epoch 33, Loss: 3353.3890688860856\n",
      "Epoch 34, Loss: 3192.95452259205\n",
      "Epoch 35, Loss: 3468.288259153013\n",
      "Epoch 36, Loss: 3086.4309406986945\n",
      "Epoch 37, Loss: 3133.3219748602974\n",
      "Epoch 38, Loss: 2974.3207191184715\n",
      "Epoch 39, Loss: 2963.851155033818\n",
      "Epoch 40, Loss: 3303.1692174275718\n",
      "Epoch 41, Loss: 2914.4901193689416\n",
      "Epoch 42, Loss: 2835.5803883870444\n",
      "Epoch 43, Loss: 2835.664882942482\n",
      "Epoch 44, Loss: 2833.9217598526566\n",
      "Epoch 45, Loss: 2818.1406543872977\n",
      "Epoch 46, Loss: 2801.1670362684463\n",
      "Epoch 47, Loss: 2777.8485042430734\n",
      "Epoch 48, Loss: 2786.1632568924515\n",
      "Epoch 49, Loss: 2780.5472355595343\n",
      "Epoch 50, Loss: 2771.3061164573387\n",
      "Epoch 51, Loss: 2756.820457175926\n",
      "Epoch 52, Loss: 2764.4473891081634\n",
      "Epoch 53, Loss: 2770.2296422322593\n",
      "Epoch 54, Loss: 2772.9959369235567\n",
      "Epoch 55, Loss: 2767.982439959491\n",
      "Epoch 56, Loss: 2765.9163886176216\n",
      "Epoch 57, Loss: 2766.856584619593\n",
      "Epoch 58, Loss: 2776.183653937446\n",
      "Epoch 59, Loss: 2785.4460692229095\n",
      "Epoch 60, Loss: 2817.1341148659035\n",
      "Epoch 61, Loss: 2778.363503067582\n",
      "Epoch 62, Loss: 2778.5532418710213\n",
      "Epoch 63, Loss: 2786.2298397488066\n",
      "Epoch 64, Loss: 2765.2609868932655\n",
      "Epoch 65, Loss: 2778.7162282025374\n",
      "Epoch 66, Loss: 2791.5851383915656\n",
      "Epoch 67, Loss: 2779.3953490080658\n",
      "Epoch 68, Loss: 2774.631792704264\n",
      "Epoch 69, Loss: 3520.760947474727\n",
      "Epoch 70, Loss: 2834.883808842412\n",
      "Epoch 71, Loss: 2778.612240826642\n",
      "Epoch 72, Loss: 2789.292455320005\n",
      "Epoch 73, Loss: 2798.987909105089\n",
      "Epoch 74, Loss: 2811.7045047901297\n",
      "Epoch 75, Loss: 2794.8828995316117\n",
      "Epoch 76, Loss: 2788.041539227521\n",
      "Epoch 77, Loss: 3165.338038691768\n",
      "Epoch 78, Loss: 2817.973072193287\n",
      "Epoch 79, Loss: 2811.06281958686\n",
      "Epoch 80, Loss: 2797.4192372074835\n",
      "Epoch 81, Loss: 2818.9686429059066\n",
      "Epoch 82, Loss: 2784.316946524161\n",
      "Epoch 83, Loss: 2771.7612915039062\n",
      "Epoch 84, Loss: 2770.307571128563\n",
      "Epoch 85, Loss: 2761.234457510489\n",
      "Epoch 86, Loss: 2787.5248003359193\n",
      "Epoch 87, Loss: 2835.622742546929\n",
      "Epoch 88, Loss: 2775.876424718786\n",
      "Epoch 89, Loss: 2767.7718048095703\n",
      "Epoch 90, Loss: 2777.094677395291\n",
      "Epoch 91, Loss: 2780.3413930822303\n",
      "Epoch 92, Loss: 2768.705401950412\n",
      "Epoch 93, Loss: 2774.2018559773765\n",
      "Epoch 94, Loss: 2780.2319748489945\n",
      "Epoch 95, Loss: 2773.340852525499\n",
      "Epoch 96, Loss: 2776.3426694516784\n",
      "Epoch 97, Loss: 2763.145103313305\n",
      "Epoch 98, Loss: 2782.6043177004212\n",
      "Epoch 99, Loss: 2760.302283251727\n",
      "Epoch 100, Loss: 2779.4522891574434\n"
     ]
    }
   ],
   "source": [
    "num_epochs = 150\n",
    "\n",
    "epoch_losses = train_model(model, train_loader, criterion, optimizer, device, num_epochs=100)\n"
   ]
  },
  {
   "cell_type": "code",
   "execution_count": 92,
   "metadata": {},
   "outputs": [
    {
     "data": {
      "image/png": "[encoded data removed]",
      "text/plain": [
       "<Figure size 1000x600 with 1 Axes>"
      ]
     },
     "metadata": {},
     "output_type": "display_data"
    }
   ],
   "source": [
    "# plt.figure(figsize=(10, 6))\n",
    "# plt.plot(epoch_losses, label='Training Loss')\n",
    "# plt.xlabel('Epoch')\n",
    "# plt.ylabel('Loss')\n",
    "# plt.title('Training Loss Over Epochs')\n",
    "# plt.legend()\n",
    "# plt.show()\n",
    "\n",
    "plot_loss_over_epochs(epoch_losses)"
   ]
  },
  {
   "cell_type": "code",
   "execution_count": 93,
   "metadata": {},
   "outputs": [
    {
     "name": "stdout",
     "output_type": "stream",
     "text": [
      "predicted value: (3452, 1) true value: (3452,)\n",
      "Mean Squared Error on the Test Set: 2249.594970703125\n",
      "R^2 Score: 0.08607750911034995\n"
     ]
    },
    {
     "name": "stderr",
     "output_type": "stream",
     "text": [
      "/var/folders/8z/yxhm1c6x4bvg_s6d6w0cl6_80000gn/T/ipykernel_46145/645210974.py:1: UserWarning: To copy construct from a tensor, it is recommended to use sourceTensor.clone().detach() or sourceTensor.clone().detach().requires_grad_(True), rather than torch.tensor(sourceTensor).\n",
      "  X_test_tensor = torch.tensor(X_test, dtype=torch.float32)\n",
      "/var/folders/8z/yxhm1c6x4bvg_s6d6w0cl6_80000gn/T/ipykernel_46145/645210974.py:2: UserWarning: To copy construct from a tensor, it is recommended to use sourceTensor.clone().detach() or sourceTensor.clone().detach().requires_grad_(True), rather than torch.tensor(sourceTensor).\n",
      "  y_test_tensor = torch.tensor(y_test, dtype=torch.float32)\n"
     ]
    }
   ],
   "source": [
    "X_test_tensor = torch.tensor(X_test, dtype=torch.float32)\n",
    "y_test_tensor = torch.tensor(y_test, dtype=torch.float32)\n",
    "\n",
    "\n",
    "X_test_tensor = X_test_tensor.to(device)\n",
    "y_test_tensor = y_test_tensor.to(device)\n",
    "\n",
    "\n",
    "model.eval()\n",
    "\n",
    "\n",
    "# with torch.no_grad():\n",
    " \n",
    "#     y_pred_tensor = model(X_test_tensor)\n",
    "\n",
    "#     y_pred = y_pred_tensor.cpu().numpy()\n",
    "#     y_true = y_test_tensor.cpu().numpy()\n",
    "\n",
    "#     print(f\"predicted value: {y_pred.shape}\", f\"true value: {y_true.shape}\")\n",
    "\n",
    "\n",
    "# mse = mean_squared_error(y_true, y_pred)\n",
    "# print(f\"Mean Squared Error on the Test Set: {mse}\")\n",
    "\n",
    "# r2 = r2_score(y_true, y_pred)\n",
    "# print(f\"R^2 Score: {r2}\")\n",
    "\n",
    "y_pred, y_true, mse, r2 = test_model(model, X_test_tensor, y_test_tensor)"
   ]
  },
  {
   "cell_type": "code",
   "execution_count": 94,
   "metadata": {},
   "outputs": [
    {
     "data": {
      "image/png": "[encoded data removed]",
      "text/plain": [
       "<Figure size 1000x600 with 1 Axes>"
      ]
     },
     "metadata": {},
     "output_type": "display_data"
    }
   ],
   "source": [
    "# plt.figure(figsize=(10, 6))\n",
    "# plt.plot(y_true, label='Actual Values')\n",
    "# plt.plot(y_pred, label='Predicted Values', alpha=0.75)\n",
    "# plt.xlabel('Sample Index')\n",
    "# plt.ylabel('Value')\n",
    "# plt.title('Actual vs. Predicted Values')\n",
    "# plt.legend()\n",
    "# plt.show()\n",
    "\n",
    "plot_actual_predicted(y_true, y_pred)\n"
   ]
  },
  {
   "cell_type": "code",
   "execution_count": 95,
   "metadata": {},
   "outputs": [
    {
     "data": {
      "image/png": "[encoded data removed]",
      "text/plain": [
       "<Figure size 1000x600 with 1 Axes>"
      ]
     },
     "metadata": {},
     "output_type": "display_data"
    }
   ],
   "source": [
    "errors = y_true - y_pred\n",
    "plot_distribution_error(errors)"
   ]
  },
  {
   "cell_type": "code",
   "execution_count": 96,
   "metadata": {},
   "outputs": [],
   "source": [
    "# plt.figure(figsize=(10, 6))\n",
    "# plt.hist(errors, bins=25, edgecolor='k', alpha=0.7)\n",
    "# plt.xlabel('Error Value')\n",
    "# plt.ylabel('Count')\n",
    "# plt.title('Distribution of Prediction Errors')\n",
    "# plt.show()\n"
   ]
  },
  {
   "cell_type": "markdown",
   "metadata": {},
   "source": [
    "## Second Network"
   ]
  },
  {
   "cell_type": "code",
   "execution_count": 97,
   "metadata": {},
   "outputs": [],
   "source": [
    "sequence_length = 1\n",
    "num_features = X_train.shape[1]    # Number of features per timestep\n",
    "output_size = 1       # Predicting a single value\n",
    "hidden_dim = 50       # LSTM hidden dimensions\n",
    "num_layers = 2        # Number of LSTM layers\n",
    "dropout_rate = 0.2    # Dropout rate\n",
    "\n"
   ]
  },
  {
   "cell_type": "code",
   "execution_count": 98,
   "metadata": {},
   "outputs": [],
   "source": [
    "model = LSTMTimeSeriesModel(sequence_length, num_features, output_size, hidden_dim, num_layers, dropout_rate)"
   ]
  },
  {
   "cell_type": "code",
   "execution_count": 99,
   "metadata": {},
   "outputs": [],
   "source": [
    "criterion = nn.MSELoss()\n",
    "optimizer = optim.Adam(model.parameters(), lr=0.001)"
   ]
  },
  {
   "cell_type": "code",
   "execution_count": 100,
   "metadata": {},
   "outputs": [
    {
     "ename": "AttributeError",
     "evalue": "'LSTMTimeSeriesModel' object has no attribute 'num_layers'",
     "output_type": "error",
     "traceback": [
      "\u001b[0;31m---------------------------------------------------------------------------\u001b[0m",
      "\u001b[0;31mAttributeError\u001b[0m                            Traceback (most recent call last)",
      "Cell \u001b[0;32mIn[100], line 9\u001b[0m\n\u001b[1;32m      7\u001b[0m inputs, targets \u001b[38;5;241m=\u001b[39m inputs\u001b[38;5;241m.\u001b[39mto(device), targets\u001b[38;5;241m.\u001b[39mto(device)\n\u001b[1;32m      8\u001b[0m optimizer\u001b[38;5;241m.\u001b[39mzero_grad()\n\u001b[0;32m----> 9\u001b[0m outputs \u001b[38;5;241m=\u001b[39m \u001b[43mmodel\u001b[49m\u001b[43m(\u001b[49m\u001b[43minputs\u001b[49m\u001b[43m)\u001b[49m\n\u001b[1;32m     10\u001b[0m loss \u001b[38;5;241m=\u001b[39m criterion(outputs, targets)\n\u001b[1;32m     11\u001b[0m loss\u001b[38;5;241m.\u001b[39mbackward()\n",
      "File \u001b[0;32m~/Uni/Third_Year/MSCI446/MSCI_446_ML_Course_Project/venv/lib/python3.11/site-packages/torch/nn/modules/module.py:1511\u001b[0m, in \u001b[0;36mModule._wrapped_call_impl\u001b[0;34m(self, *args, **kwargs)\u001b[0m\n\u001b[1;32m   1509\u001b[0m     \u001b[38;5;28;01mreturn\u001b[39;00m \u001b[38;5;28mself\u001b[39m\u001b[38;5;241m.\u001b[39m_compiled_call_impl(\u001b[38;5;241m*\u001b[39margs, \u001b[38;5;241m*\u001b[39m\u001b[38;5;241m*\u001b[39mkwargs)  \u001b[38;5;66;03m# type: ignore[misc]\u001b[39;00m\n\u001b[1;32m   1510\u001b[0m \u001b[38;5;28;01melse\u001b[39;00m:\n\u001b[0;32m-> 1511\u001b[0m     \u001b[38;5;28;01mreturn\u001b[39;00m \u001b[38;5;28;43mself\u001b[39;49m\u001b[38;5;241;43m.\u001b[39;49m\u001b[43m_call_impl\u001b[49m\u001b[43m(\u001b[49m\u001b[38;5;241;43m*\u001b[39;49m\u001b[43margs\u001b[49m\u001b[43m,\u001b[49m\u001b[43m \u001b[49m\u001b[38;5;241;43m*\u001b[39;49m\u001b[38;5;241;43m*\u001b[39;49m\u001b[43mkwargs\u001b[49m\u001b[43m)\u001b[49m\n",
      "File \u001b[0;32m~/Uni/Third_Year/MSCI446/MSCI_446_ML_Course_Project/venv/lib/python3.11/site-packages/torch/nn/modules/module.py:1520\u001b[0m, in \u001b[0;36mModule._call_impl\u001b[0;34m(self, *args, **kwargs)\u001b[0m\n\u001b[1;32m   1515\u001b[0m \u001b[38;5;66;03m# If we don't have any hooks, we want to skip the rest of the logic in\u001b[39;00m\n\u001b[1;32m   1516\u001b[0m \u001b[38;5;66;03m# this function, and just call forward.\u001b[39;00m\n\u001b[1;32m   1517\u001b[0m \u001b[38;5;28;01mif\u001b[39;00m \u001b[38;5;129;01mnot\u001b[39;00m (\u001b[38;5;28mself\u001b[39m\u001b[38;5;241m.\u001b[39m_backward_hooks \u001b[38;5;129;01mor\u001b[39;00m \u001b[38;5;28mself\u001b[39m\u001b[38;5;241m.\u001b[39m_backward_pre_hooks \u001b[38;5;129;01mor\u001b[39;00m \u001b[38;5;28mself\u001b[39m\u001b[38;5;241m.\u001b[39m_forward_hooks \u001b[38;5;129;01mor\u001b[39;00m \u001b[38;5;28mself\u001b[39m\u001b[38;5;241m.\u001b[39m_forward_pre_hooks\n\u001b[1;32m   1518\u001b[0m         \u001b[38;5;129;01mor\u001b[39;00m _global_backward_pre_hooks \u001b[38;5;129;01mor\u001b[39;00m _global_backward_hooks\n\u001b[1;32m   1519\u001b[0m         \u001b[38;5;129;01mor\u001b[39;00m _global_forward_hooks \u001b[38;5;129;01mor\u001b[39;00m _global_forward_pre_hooks):\n\u001b[0;32m-> 1520\u001b[0m     \u001b[38;5;28;01mreturn\u001b[39;00m \u001b[43mforward_call\u001b[49m\u001b[43m(\u001b[49m\u001b[38;5;241;43m*\u001b[39;49m\u001b[43margs\u001b[49m\u001b[43m,\u001b[49m\u001b[43m \u001b[49m\u001b[38;5;241;43m*\u001b[39;49m\u001b[38;5;241;43m*\u001b[39;49m\u001b[43mkwargs\u001b[49m\u001b[43m)\u001b[49m\n\u001b[1;32m   1522\u001b[0m \u001b[38;5;28;01mtry\u001b[39;00m:\n\u001b[1;32m   1523\u001b[0m     result \u001b[38;5;241m=\u001b[39m \u001b[38;5;28;01mNone\u001b[39;00m\n",
      "File \u001b[0;32m~/Uni/Third_Year/MSCI446/MSCI_446_ML_Course_Project/Predictions/src/../Models/models.py:40\u001b[0m, in \u001b[0;36mLSTMTimeSeriesModel.forward\u001b[0;34m(self, x)\u001b[0m\n\u001b[1;32m     38\u001b[0m \u001b[38;5;28;01mdef\u001b[39;00m \u001b[38;5;21mforward\u001b[39m(\u001b[38;5;28mself\u001b[39m, x):\n\u001b[0;32m---> 40\u001b[0m     h0 \u001b[38;5;241m=\u001b[39m torch\u001b[38;5;241m.\u001b[39mzeros(\u001b[38;5;28;43mself\u001b[39;49m\u001b[38;5;241;43m.\u001b[39;49m\u001b[43mnum_layers\u001b[49m, x\u001b[38;5;241m.\u001b[39msize(\u001b[38;5;241m0\u001b[39m),\n\u001b[1;32m     41\u001b[0m                      \u001b[38;5;28mself\u001b[39m\u001b[38;5;241m.\u001b[39mhidden_dim)\u001b[38;5;241m.\u001b[39mto(x\u001b[38;5;241m.\u001b[39mdevice)\n\u001b[1;32m     43\u001b[0m     c0 \u001b[38;5;241m=\u001b[39m torch\u001b[38;5;241m.\u001b[39mzeros(\u001b[38;5;28mself\u001b[39m\u001b[38;5;241m.\u001b[39mnum_layers, x\u001b[38;5;241m.\u001b[39msize(\u001b[38;5;241m0\u001b[39m),\n\u001b[1;32m     44\u001b[0m                      \u001b[38;5;28mself\u001b[39m\u001b[38;5;241m.\u001b[39mhidden_dim)\u001b[38;5;241m.\u001b[39mto(x\u001b[38;5;241m.\u001b[39mdevice)\n\u001b[1;32m     46\u001b[0m     lstm_out, _ \u001b[38;5;241m=\u001b[39m \u001b[38;5;28mself\u001b[39m\u001b[38;5;241m.\u001b[39mlstm(x, (h0, c0))\n",
      "File \u001b[0;32m~/Uni/Third_Year/MSCI446/MSCI_446_ML_Course_Project/venv/lib/python3.11/site-packages/torch/nn/modules/module.py:1688\u001b[0m, in \u001b[0;36mModule.__getattr__\u001b[0;34m(self, name)\u001b[0m\n\u001b[1;32m   1686\u001b[0m     \u001b[38;5;28;01mif\u001b[39;00m name \u001b[38;5;129;01min\u001b[39;00m modules:\n\u001b[1;32m   1687\u001b[0m         \u001b[38;5;28;01mreturn\u001b[39;00m modules[name]\n\u001b[0;32m-> 1688\u001b[0m \u001b[38;5;28;01mraise\u001b[39;00m \u001b[38;5;167;01mAttributeError\u001b[39;00m(\u001b[38;5;124mf\u001b[39m\u001b[38;5;124m\"\u001b[39m\u001b[38;5;124m'\u001b[39m\u001b[38;5;132;01m{\u001b[39;00m\u001b[38;5;28mtype\u001b[39m(\u001b[38;5;28mself\u001b[39m)\u001b[38;5;241m.\u001b[39m\u001b[38;5;18m__name__\u001b[39m\u001b[38;5;132;01m}\u001b[39;00m\u001b[38;5;124m'\u001b[39m\u001b[38;5;124m object has no attribute \u001b[39m\u001b[38;5;124m'\u001b[39m\u001b[38;5;132;01m{\u001b[39;00mname\u001b[38;5;132;01m}\u001b[39;00m\u001b[38;5;124m'\u001b[39m\u001b[38;5;124m\"\u001b[39m)\n",
      "\u001b[0;31mAttributeError\u001b[0m: 'LSTMTimeSeriesModel' object has no attribute 'num_layers'"
     ]
    }
   ],
   "source": [
    "num_epochs = 150\n",
    "epoch_losses = []\n",
    "\n",
    "for epoch in range(num_epochs):\n",
    "    batch_losses = []  # Store losses for this epoch\n",
    "    for inputs, targets in train_loader:\n",
    "        inputs, targets = inputs.to(device), targets.to(device)\n",
    "        optimizer.zero_grad()\n",
    "        outputs = model(inputs)\n",
    "        loss = criterion(outputs, targets)\n",
    "        loss.backward()\n",
    "        optimizer.step()\n",
    "        batch_losses.append(loss.item())\n",
    "    epoch_loss = sum(batch_losses) / len(batch_losses)\n",
    "    epoch_losses.append(epoch_loss)\n",
    "    print(f'Epoch {epoch+1}, Loss: {epoch_loss}')\n"
   ]
  },
  {
   "cell_type": "code",
   "execution_count": null,
   "metadata": {},
   "outputs": [],
   "source": [
    "plt.figure(figsize=(10, 6))\n",
    "plt.plot(epoch_losses, label='Training Loss')\n",
    "plt.xlabel('Epoch')\n",
    "plt.ylabel('Loss')\n",
    "plt.title('Training Loss Over Epochs')\n",
    "plt.legend()\n",
    "plt.show()"
   ]
  },
  {
   "cell_type": "code",
   "execution_count": null,
   "metadata": {},
   "outputs": [],
   "source": [
    "X_test_tensor = torch.tensor(X_test, dtype=torch.float32)\n",
    "y_test_tensor = torch.tensor(y_test, dtype=torch.float32)\n",
    "\n",
    "\n",
    "X_test_tensor = X_test_tensor.to(device)\n",
    "y_test_tensor = y_test_tensor.to(device)\n",
    "\n",
    "\n",
    "model.eval()\n",
    "\n",
    "\n",
    "with torch.no_grad():\n",
    " \n",
    "    y_pred_tensor = model(X_test_tensor)\n",
    "\n",
    "    y_pred = y_pred_tensor.cpu().numpy()\n",
    "    y_true = y_test_tensor.cpu().numpy()\n",
    "\n",
    "    print(f\"predicted value: {y_pred.shape}\", f\"true value: {y_true.shape}\")\n",
    "\n",
    "\n",
    "mse = mean_squared_error(y_true, y_pred)\n",
    "print(f\"Mean Squared Error on the Test Set: {mse}\")\n",
    "\n",
    "r2 = r2_score(y_true, y_pred)\n",
    "print(f\"R^2 Score: {r2}\")"
   ]
  },
  {
   "cell_type": "code",
   "execution_count": null,
   "metadata": {},
   "outputs": [],
   "source": [
    "plt.figure(figsize=(10, 6))\n",
    "plt.plot(y_true, label='Actual Values')\n",
    "plt.plot(y_pred, label='Predicted Values', alpha=0.75)\n",
    "plt.xlabel('Sample Index')\n",
    "plt.ylabel('Value')\n",
    "plt.title('Actual vs. Predicted Values')\n",
    "plt.legend()\n",
    "plt.show()\n"
   ]
  },
  {
   "cell_type": "code",
   "execution_count": null,
   "metadata": {},
   "outputs": [],
   "source": [
    "errors = y_true - y_pred"
   ]
  },
  {
   "cell_type": "code",
   "execution_count": null,
   "metadata": {},
   "outputs": [],
   "source": [
    "plt.figure(figsize=(10, 6))\n",
    "plt.hist(errors, bins=25, edgecolor='k', alpha=0.7)\n",
    "plt.xlabel('Error Value')\n",
    "plt.ylabel('Count')\n",
    "plt.title('Distribution of Prediction Errors')\n",
    "plt.show()"
   ]
  }
 ],
 "metadata": {
  "kernelspec": {
   "display_name": "Python 3.12.0 64-bit",
   "language": "python",
   "name": "python3"
  },
  "language_info": {
   "codemirror_mode": {
    "name": "ipython",
    "version": 3
   },
   "file_extension": ".py",
   "mimetype": "text/x-python",
   "name": "python",
   "nbconvert_exporter": "python",
   "pygments_lexer": "ipython3",
   "version": "3.11.6"
  },
  "vscode": {
   "interpreter": {
    "hash": "aee8b7b246df8f9039afb4144a1f6fd8d2ca17a180786b69acc140d282b71a49"
   }
  }
 },
 "nbformat": 4,
 "nbformat_minor": 2
}
