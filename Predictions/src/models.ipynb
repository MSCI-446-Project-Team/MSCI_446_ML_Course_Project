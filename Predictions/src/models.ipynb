{
 "cells": [
  {
   "cell_type": "code",
   "execution_count": 1,
   "metadata": {},
   "outputs": [],
   "source": [
    "import pandas as pd\n",
    "import numpy as np\n",
    "from sklearn.model_selection import train_test_split\n"
   ]
  },
  {
   "cell_type": "markdown",
   "metadata": {},
   "source": [
    "### Reading the merged dataframe"
   ]
  },
  {
   "cell_type": "code",
   "execution_count": 2,
   "metadata": {},
   "outputs": [
    {
     "data": {
      "text/html": [
       "<div>\n",
       "<style scoped>\n",
       "    .dataframe tbody tr th:only-of-type {\n",
       "        vertical-align: middle;\n",
       "    }\n",
       "\n",
       "    .dataframe tbody tr th {\n",
       "        vertical-align: top;\n",
       "    }\n",
       "\n",
       "    .dataframe thead th {\n",
       "        text-align: right;\n",
       "    }\n",
       "</style>\n",
       "<table border=\"1\" class=\"dataframe\">\n",
       "  <thead>\n",
       "    <tr style=\"text-align: right;\">\n",
       "      <th></th>\n",
       "      <th>datetime_beginning_ept</th>\n",
       "      <th>MIDATL_solar</th>\n",
       "      <th>OTHER_solar</th>\n",
       "      <th>RFC_solar</th>\n",
       "      <th>RTO_solar</th>\n",
       "      <th>SOUTH_solar</th>\n",
       "      <th>WEST_solar</th>\n",
       "      <th>MIDATL_wind</th>\n",
       "      <th>OTHER_wind</th>\n",
       "      <th>RFC_wind</th>\n",
       "      <th>...</th>\n",
       "      <th>DOM_forecast</th>\n",
       "      <th>DUQ_forecast</th>\n",
       "      <th>EKPC_forecast</th>\n",
       "      <th>MIDATL_forecast</th>\n",
       "      <th>RTO_forecast</th>\n",
       "      <th>DPL_historical_da</th>\n",
       "      <th>forecast_gen_outage_mw_rto</th>\n",
       "      <th>forecast_gen_outage_mw_west</th>\n",
       "      <th>forecast_gen_outage_mw_other</th>\n",
       "      <th>Henry Hub Natural Gas Spot Price (Dollars per Million Btu)</th>\n",
       "    </tr>\n",
       "  </thead>\n",
       "  <tbody>\n",
       "    <tr>\n",
       "      <th>0</th>\n",
       "      <td>18/02/2022 00:00:00 AM</td>\n",
       "      <td>0.282</td>\n",
       "      <td>0.0</td>\n",
       "      <td>0.041</td>\n",
       "      <td>0.0</td>\n",
       "      <td>0.0</td>\n",
       "      <td>0.0</td>\n",
       "      <td>957.466</td>\n",
       "      <td>0.0</td>\n",
       "      <td>5625.364</td>\n",
       "      <td>...</td>\n",
       "      <td>9663.6</td>\n",
       "      <td>1254.400000</td>\n",
       "      <td>1313.6</td>\n",
       "      <td>24893.800000</td>\n",
       "      <td>78417.800000</td>\n",
       "      <td>38.95</td>\n",
       "      <td>2928.770833</td>\n",
       "      <td>257.166667</td>\n",
       "      <td>2671.604167</td>\n",
       "      <td>4.61</td>\n",
       "    </tr>\n",
       "    <tr>\n",
       "      <th>1</th>\n",
       "      <td>18/02/2022 01:00:00 AM</td>\n",
       "      <td>0.246</td>\n",
       "      <td>0.0</td>\n",
       "      <td>0.000</td>\n",
       "      <td>0.0</td>\n",
       "      <td>0.0</td>\n",
       "      <td>0.0</td>\n",
       "      <td>939.014</td>\n",
       "      <td>0.0</td>\n",
       "      <td>5291.098</td>\n",
       "      <td>...</td>\n",
       "      <td>9394.8</td>\n",
       "      <td>1233.000000</td>\n",
       "      <td>1334.2</td>\n",
       "      <td>24153.400000</td>\n",
       "      <td>76642.200000</td>\n",
       "      <td>36.43</td>\n",
       "      <td>2928.770833</td>\n",
       "      <td>257.166667</td>\n",
       "      <td>2671.604167</td>\n",
       "      <td>4.61</td>\n",
       "    </tr>\n",
       "    <tr>\n",
       "      <th>2</th>\n",
       "      <td>18/02/2022 02:00:00 AM</td>\n",
       "      <td>0.300</td>\n",
       "      <td>0.0</td>\n",
       "      <td>0.060</td>\n",
       "      <td>0.0</td>\n",
       "      <td>0.0</td>\n",
       "      <td>0.0</td>\n",
       "      <td>904.381</td>\n",
       "      <td>0.0</td>\n",
       "      <td>4676.792</td>\n",
       "      <td>...</td>\n",
       "      <td>9239.4</td>\n",
       "      <td>1224.200000</td>\n",
       "      <td>1365.4</td>\n",
       "      <td>23656.600000</td>\n",
       "      <td>75794.400000</td>\n",
       "      <td>36.36</td>\n",
       "      <td>2928.770833</td>\n",
       "      <td>257.166667</td>\n",
       "      <td>2671.604167</td>\n",
       "      <td>4.61</td>\n",
       "    </tr>\n",
       "    <tr>\n",
       "      <th>3</th>\n",
       "      <td>18/02/2022 03:00:00 AM</td>\n",
       "      <td>0.254</td>\n",
       "      <td>0.0</td>\n",
       "      <td>0.015</td>\n",
       "      <td>0.0</td>\n",
       "      <td>0.0</td>\n",
       "      <td>0.0</td>\n",
       "      <td>889.508</td>\n",
       "      <td>0.0</td>\n",
       "      <td>3968.681</td>\n",
       "      <td>...</td>\n",
       "      <td>9250.6</td>\n",
       "      <td>1229.000000</td>\n",
       "      <td>1428.8</td>\n",
       "      <td>23673.400000</td>\n",
       "      <td>75983.400000</td>\n",
       "      <td>36.59</td>\n",
       "      <td>2928.770833</td>\n",
       "      <td>257.166667</td>\n",
       "      <td>2671.604167</td>\n",
       "      <td>4.61</td>\n",
       "    </tr>\n",
       "    <tr>\n",
       "      <th>4</th>\n",
       "      <td>18/02/2022 04:00:00 AM</td>\n",
       "      <td>0.270</td>\n",
       "      <td>0.0</td>\n",
       "      <td>0.034</td>\n",
       "      <td>0.0</td>\n",
       "      <td>0.0</td>\n",
       "      <td>0.0</td>\n",
       "      <td>863.901</td>\n",
       "      <td>0.0</td>\n",
       "      <td>3413.737</td>\n",
       "      <td>...</td>\n",
       "      <td>9458.5</td>\n",
       "      <td>1270.166667</td>\n",
       "      <td>1537.0</td>\n",
       "      <td>24108.166667</td>\n",
       "      <td>77849.166667</td>\n",
       "      <td>38.60</td>\n",
       "      <td>2928.770833</td>\n",
       "      <td>257.166667</td>\n",
       "      <td>2671.604167</td>\n",
       "      <td>4.61</td>\n",
       "    </tr>\n",
       "  </tbody>\n",
       "</table>\n",
       "<p>5 rows × 29 columns</p>\n",
       "</div>"
      ],
      "text/plain": [
       "   datetime_beginning_ept  MIDATL_solar  OTHER_solar  RFC_solar  RTO_solar  \\\n",
       "0  18/02/2022 00:00:00 AM         0.282          0.0      0.041        0.0   \n",
       "1  18/02/2022 01:00:00 AM         0.246          0.0      0.000        0.0   \n",
       "2  18/02/2022 02:00:00 AM         0.300          0.0      0.060        0.0   \n",
       "3  18/02/2022 03:00:00 AM         0.254          0.0      0.015        0.0   \n",
       "4  18/02/2022 04:00:00 AM         0.270          0.0      0.034        0.0   \n",
       "\n",
       "   SOUTH_solar  WEST_solar  MIDATL_wind  OTHER_wind  RFC_wind  ...  \\\n",
       "0          0.0         0.0      957.466         0.0  5625.364  ...   \n",
       "1          0.0         0.0      939.014         0.0  5291.098  ...   \n",
       "2          0.0         0.0      904.381         0.0  4676.792  ...   \n",
       "3          0.0         0.0      889.508         0.0  3968.681  ...   \n",
       "4          0.0         0.0      863.901         0.0  3413.737  ...   \n",
       "\n",
       "   DOM_forecast  DUQ_forecast  EKPC_forecast  MIDATL_forecast  RTO_forecast  \\\n",
       "0        9663.6   1254.400000         1313.6     24893.800000  78417.800000   \n",
       "1        9394.8   1233.000000         1334.2     24153.400000  76642.200000   \n",
       "2        9239.4   1224.200000         1365.4     23656.600000  75794.400000   \n",
       "3        9250.6   1229.000000         1428.8     23673.400000  75983.400000   \n",
       "4        9458.5   1270.166667         1537.0     24108.166667  77849.166667   \n",
       "\n",
       "   DPL_historical_da  forecast_gen_outage_mw_rto  forecast_gen_outage_mw_west  \\\n",
       "0              38.95                 2928.770833                   257.166667   \n",
       "1              36.43                 2928.770833                   257.166667   \n",
       "2              36.36                 2928.770833                   257.166667   \n",
       "3              36.59                 2928.770833                   257.166667   \n",
       "4              38.60                 2928.770833                   257.166667   \n",
       "\n",
       "   forecast_gen_outage_mw_other  \\\n",
       "0                   2671.604167   \n",
       "1                   2671.604167   \n",
       "2                   2671.604167   \n",
       "3                   2671.604167   \n",
       "4                   2671.604167   \n",
       "\n",
       "   Henry Hub Natural Gas Spot Price (Dollars per Million Btu)  \n",
       "0                                               4.61           \n",
       "1                                               4.61           \n",
       "2                                               4.61           \n",
       "3                                               4.61           \n",
       "4                                               4.61           \n",
       "\n",
       "[5 rows x 29 columns]"
      ]
     },
     "execution_count": 2,
     "metadata": {},
     "output_type": "execute_result"
    }
   ],
   "source": [
    "data = pd.read_csv('../Data/Final_table.csv')\n",
    "data.head()"
   ]
  },
  {
   "cell_type": "markdown",
   "metadata": {},
   "source": [
    "### Splitting the dataframe into test and training sets"
   ]
  },
  {
   "cell_type": "code",
   "execution_count": 12,
   "metadata": {},
   "outputs": [],
   "source": [
    "feature_var = data.iloc[:,[1,2,3,4,5,6,7,8,9,10,11,12,13,14,15,16,17,18,19,20,21,22,23,25,26,27,28]]\n",
    "target_var = data['DPL_historical_da']\n",
    "\n",
    "X_train, X_test, y_train, y_test = train_test_split(feature_var, target_var, test_size=0.2, random_state=156)"
   ]
  },
  {
   "cell_type": "markdown",
   "metadata": {},
   "source": [
    "# Feature Selection"
   ]
  },
  {
   "cell_type": "code",
   "execution_count": 16,
   "metadata": {},
   "outputs": [
    {
     "data": {
      "text/plain": [
       "array(['APS_forecast', 'MIDATL_forecast', 'RTO_forecast',\n",
       "       'Henry Hub Natural Gas Spot Price (Dollars per Million Btu)'],\n",
       "      dtype=object)"
      ]
     },
     "execution_count": 16,
     "metadata": {},
     "output_type": "execute_result"
    }
   ],
   "source": [
    "from sklearn.feature_selection import SelectKBest\n",
    "from sklearn.feature_selection import f_classif\n",
    "\n",
    "# Initiate the SelectKBest model\n",
    "model_fc = SelectKBest(score_func=f_classif, k=4)\n",
    "\n",
    "# Fit the model to all data\n",
    "diabetes_new = model_fc.fit(X_train, y_train)\n",
    "\n",
    "# Check the selected features\n",
    "diabetes_new.get_feature_names_out()"
   ]
  },
  {
   "cell_type": "code",
   "execution_count": 15,
   "metadata": {},
   "outputs": [
    {
     "data": {
      "text/plain": [
       "Index(['datetime_beginning_ept', 'MIDATL_solar', 'OTHER_solar', 'RFC_solar',\n",
       "       'RTO_solar', 'SOUTH_solar', 'WEST_solar', 'MIDATL_wind', 'OTHER_wind',\n",
       "       'RFC_wind', 'RTO_wind', 'SOUTH_wind', 'WEST_wind', 'AEP_forecast',\n",
       "       'APS_forecast', 'ATSI_forecast', 'COMED_forecast', 'DAY_forecast',\n",
       "       'DEOK_forecast', 'DOM_forecast', 'DUQ_forecast', 'EKPC_forecast',\n",
       "       'MIDATL_forecast', 'RTO_forecast', 'DPL_historical_da',\n",
       "       'forecast_gen_outage_mw_rto', 'forecast_gen_outage_mw_west',\n",
       "       'forecast_gen_outage_mw_other',\n",
       "       'Henry Hub Natural Gas Spot Price (Dollars per Million Btu)'],\n",
       "      dtype='object')"
      ]
     },
     "execution_count": 15,
     "metadata": {},
     "output_type": "execute_result"
    }
   ],
   "source": [
    "data.columns"
   ]
  },
  {
   "cell_type": "markdown",
   "metadata": {},
   "source": [
    "# Linear Regression"
   ]
  }
 ],
 "metadata": {
  "kernelspec": {
   "display_name": "Python 3.12.0 64-bit",
   "language": "python",
   "name": "python3"
  },
  "language_info": {
   "codemirror_mode": {
    "name": "ipython",
    "version": 3
   },
   "file_extension": ".py",
   "mimetype": "text/x-python",
   "name": "python",
   "nbconvert_exporter": "python",
   "pygments_lexer": "ipython3",
   "version": "3.11.6"
  },
  "vscode": {
   "interpreter": {
    "hash": "aee8b7b246df8f9039afb4144a1f6fd8d2ca17a180786b69acc140d282b71a49"
   }
  }
 },
 "nbformat": 4,
 "nbformat_minor": 2
}
