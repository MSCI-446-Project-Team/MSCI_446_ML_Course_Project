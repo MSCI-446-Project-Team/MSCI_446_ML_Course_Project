{
 "cells": [
  {
   "cell_type": "code",
   "execution_count": null,
   "metadata": {},
   "outputs": [],
   "source": [
    "sys.path.append('../Models')\n",
    "from models import TimeSeriesNeuralNetwork, LSTMTimeSeriesModel\n",
    "import torch.optim as optim"
   ]
  }
 ],
 "metadata": {
  "language_info": {
   "name": "python"
  }
 },
 "nbformat": 4,
 "nbformat_minor": 2
}
