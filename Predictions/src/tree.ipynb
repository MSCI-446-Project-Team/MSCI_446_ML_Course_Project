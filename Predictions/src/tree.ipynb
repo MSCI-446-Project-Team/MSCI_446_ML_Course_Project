{
 "cells": [
  {
   "cell_type": "code",
   "execution_count": 34,
   "metadata": {},
   "outputs": [],
   "source": [
    "import pandas as pd\n",
    "import numpy as np\n",
    "import matplotlib.pyplot as plt \n",
    "import seaborn as sns\n",
    "\n",
    "from sklearn import tree\n",
    "from sklearn.model_selection import train_test_split\n",
    "from sklearn.metrics import mean_squared_error, r2_score\n",
    "\n",
    "data = pd.read_csv('../../Final_table.csv')"
   ]
  },
  {
   "cell_type": "markdown",
   "metadata": {},
   "source": [
    "#  Performing Linear Regression with considering all columns\n",
    "### Splitting dataframe into train and test datasets"
   ]
  },
  {
   "cell_type": "code",
   "execution_count": 35,
   "metadata": {},
   "outputs": [],
   "source": [
    "feature_var = data.iloc[:,[1,2,3,4,5,6,7,8,9,10,11,12,13,14,15,16,17,18,19,20,21,22,23,25,26,27,28]]\n",
    "target_var = data['DPL_historical_da']\n",
    "\n",
    "X_train, X_test, y_train, y_test = train_test_split(feature_var, target_var, test_size=0.2, random_state=156)"
   ]
  },
  {
   "cell_type": "markdown",
   "metadata": {},
   "source": [
    "### Running regression tree model with depth of 10"
   ]
  },
  {
   "cell_type": "code",
   "execution_count": null,
   "metadata": {},
   "outputs": [],
   "source": [
    "model = tree.DecisionTreeRegressor(max_depth = 10, random_state = 156)\n",
    "model = model.fit(X_train, y_train)\n",
    "\n",
    "model_text = tree.export_text(model, feature_names=list(X_train.columns))\n",
    "print(model_text)"
   ]
  },
  {
   "cell_type": "markdown",
   "metadata": {},
   "source": [
    "### Determining importance of feature columns"
   ]
  },
  {
   "cell_type": "code",
   "execution_count": null,
   "metadata": {},
   "outputs": [],
   "source": [
    "fi = model.feature_importances_\n",
    "\n",
    "names = X_train.columns\n",
    "importance_dict = dict(zip(names, fi))\n",
    "\n",
    "print(\"Feature Importance:\")\n",
    "for feature, importance in importance_dict.items():\n",
    "    print(f\"{feature}: {importance}\")"
   ]
  },
  {
   "cell_type": "markdown",
   "metadata": {},
   "source": [
    "### MSE and R^2"
   ]
  },
  {
   "cell_type": "code",
   "execution_count": 42,
   "metadata": {},
   "outputs": [
    {
     "name": "stdout",
     "output_type": "stream",
     "text": [
      "541.1199405750033 0.7967122859329586\n"
     ]
    }
   ],
   "source": [
    "preds = model.predict(X_test)\n",
    "print(mean_squared_error(y_test, preds), r2_score(y_test, preds))"
   ]
  },
  {
   "cell_type": "markdown",
   "metadata": {},
   "source": [
    "### Determining Optimal Depth between 1 and 30"
   ]
  },
  {
   "cell_type": "code",
   "execution_count": 43,
   "metadata": {},
   "outputs": [
    {
     "name": "stdout",
     "output_type": "stream",
     "text": [
      "Depth of the model yielding minimum test MSE is: 20\n",
      "Optimized model has MSE: 473.070565605012\n"
     ]
    }
   ],
   "source": [
    "mse = {'k':[], 'train_mse':[], 'test_mse':[]}\n",
    "for k in range(1,30):\n",
    "    print(\"Fit with max_depth:\", k, end='\\r', flush=True)\n",
    "    \n",
    "    model = tree.DecisionTreeRegressor(max_depth=k, random_state= 156)\n",
    "    model = model.fit(X_train, y_train)\n",
    "    preds_train = model.predict(X_train)\n",
    "    preds_test = model.predict(X_test)\n",
    "\n",
    "    mse['k'].append(k)\n",
    "    mse['train_mse'].append(mean_squared_error(y_train, preds_train))\n",
    "    mse['test_mse'].append(mean_squared_error(y_test, preds_test))\n",
    "    \n",
    "idx = mse['test_mse'].index(min(mse['test_mse']))\n",
    "print('Depth of the model yielding minimum test MSE is:', mse['k'][idx])\n",
    "print('Optimized model has MSE:', min(mse['test_mse']))"
   ]
  }
 ],
 "metadata": {
  "kernelspec": {
   "display_name": "venv",
   "language": "python",
   "name": "python3"
  },
  "language_info": {
   "codemirror_mode": {
    "name": "ipython",
    "version": 3
   },
   "file_extension": ".py",
   "mimetype": "text/x-python",
   "name": "python",
   "nbconvert_exporter": "python",
   "pygments_lexer": "ipython3",
   "version": "3.12.2"
  }
 },
 "nbformat": 4,
 "nbformat_minor": 2
}
