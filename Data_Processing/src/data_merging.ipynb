{
 "cells": [
  {
   "cell_type": "code",
   "execution_count": 74,
   "metadata": {},
   "outputs": [],
   "source": [
    "from dotenv import load_dotenv\n",
    "import pandas as pd\n",
    "import os\n",
    "from pymongo import MongoClient\n",
    "\n",
    "load_dotenv()\n",
    "cluster_uri = os.environ.get(\"MONGODB_URI\")\n",
    "client = MongoClient(cluster_uri)\n",
    "db = client[\"MSCI446_DB\"]"
   ]
  },
  {
   "cell_type": "markdown",
   "metadata": {},
   "source": [
    "### This module is for loading the data and transforming them into dataframes"
   ]
  },
  {
   "cell_type": "code",
   "execution_count": 75,
   "metadata": {},
   "outputs": [
    {
     "name": "stdout",
     "output_type": "stream",
     "text": [
      "  forecast_hour_beginning_ept forecast_area  forecast_load_mw\n",
      "0        1/1/2024 12:00:00 AM           AEP             14145\n",
      "1         1/1/2024 1:00:00 AM           AEP             13908\n",
      "2         1/1/2024 2:00:00 AM           AEP             13765\n",
      "3         1/1/2024 3:00:00 AM           AEP             13788\n",
      "4         1/1/2024 4:00:00 AM           AEP             13862\n",
      "  datetime_beginning_ept    area  solar_generation_mw\n",
      "0  2/28/2024 11:00:00 PM  MIDATL                  0.0\n",
      "1  2/28/2024 11:00:00 PM   OTHER                  0.0\n",
      "2  2/28/2024 11:00:00 PM     RFC                  0.0\n",
      "3  2/28/2024 11:00:00 PM     RTO                  0.0\n",
      "4  2/28/2024 11:00:00 PM   SOUTH                  0.0\n",
      "   datetime_beginning_ept    area  wind_generation_mw\n",
      "0  12/31/2023 11:00:00 PM  MIDATL              75.609\n",
      "1  12/31/2023 11:00:00 PM   OTHER              26.714\n",
      "2  12/31/2023 11:00:00 PM   SOUTH             109.142\n",
      "3  12/31/2023 11:00:00 PM    WEST            4174.260\n",
      "4  12/31/2023 11:00:00 PM     RTO            4359.011\n",
      "           Date  Henry Hub Natural Gas Spot Price (Dollars per Million Btu)\n",
      "0  Jan 07, 1997                                               3.82         \n",
      "1  Jan 08, 1997                                               3.80         \n",
      "2  Jan 09, 1997                                               3.61         \n",
      "3  Jan 10, 1997                                               3.92         \n",
      "4  Jan 11, 1997                                               3.92         \n",
      "          forecast_date  forecast_gen_outage_mw_rto  \\\n",
      "0  1/1/2024 12:00:00 AM                        2138   \n",
      "1  1/2/2024 12:00:00 AM                        2205   \n",
      "2  1/3/2024 12:00:00 AM                        2229   \n",
      "3  1/4/2024 12:00:00 AM                        2205   \n",
      "4  1/5/2024 12:00:00 AM                        2202   \n",
      "\n",
      "   forecast_gen_outage_mw_west  forecast_gen_outage_mw_other  \n",
      "0                            4                          2134  \n",
      "1                           23                          2182  \n",
      "2                           23                          2206  \n",
      "3                           23                          2182  \n",
      "4                           23                          2179  \n",
      "  datetime_beginning_ept  pnode_id pnode_name zone  system_energy_price_da  \\\n",
      "0   7/1/2022 12:00:00 AM     49858      AIREY  DPL                   57.86   \n",
      "1    7/1/2022 1:00:00 AM     49858      AIREY  DPL                   49.17   \n",
      "2    7/1/2022 2:00:00 AM     49858      AIREY  DPL                   45.93   \n",
      "3    7/1/2022 3:00:00 AM     49858      AIREY  DPL                   43.30   \n",
      "4    7/1/2022 4:00:00 AM     49858      AIREY  DPL                   43.04   \n",
      "\n",
      "   total_lmp_da  congestion_price_da  marginal_loss_price_da  \n",
      "0         61.24                 0.07                    3.31  \n",
      "1         51.86                 0.05                    2.64  \n",
      "2         47.79                 0.04                    1.82  \n",
      "3         45.00                 0.05                    1.65  \n",
      "4         45.00                 0.05                    1.91  \n"
     ]
    }
   ],
   "source": [
    "# This module converts the objects pulled from Mono DB into a dataframe\n",
    "collection_forecast = db[\"Load_Forecast\"]\n",
    "collection_solar = db[\"Solar_Forecast\"]\n",
    "collection_wind = db[\"Wind_Forecast\"]\n",
    "collection_gas_price = db[\"Gas_Prices\"]\n",
    "collection_gen_outages = db[\"Gen_Outages\"]\n",
    "collection_historical_da_price = db[\"Historical_DA_Prices\"]\n",
    "\n",
    "documents_forecast = list(collection_forecast.find())\n",
    "documents_solar = list(collection_solar.find())\n",
    "documents_wind = list(collection_wind.find())\n",
    "documents_gas_price = list(collection_gas_price.find())\n",
    "documents_gen_outages = list(collection_gen_outages.find())\n",
    "documents_historical_da_price = list(collection_historical_da_price.find())\n",
    "\n",
    "# Converting documents into dataframes\n",
    "df_forecast = pd.DataFrame(documents_forecast)\n",
    "df_solar = pd.DataFrame(documents_solar)\n",
    "df_wind = pd.DataFrame(documents_wind)\n",
    "df_gas_price = pd.DataFrame(documents_gas_price)\n",
    "df_gen_outages = pd.DataFrame(documents_gen_outages)\n",
    "df_historical_da_price = pd.DataFrame(documents_historical_da_price)\n",
    "\n",
    "# Dropping the id column\n",
    "df_forecast.drop('_id', axis=1, inplace=True)\n",
    "df_solar.drop('_id', axis=1, inplace=True)\n",
    "df_wind.drop('_id', axis=1, inplace=True)\n",
    "df_gas_price.drop('_id', axis=1, inplace=True)\n",
    "df_gen_outages.drop('_id', axis=1, inplace=True)\n",
    "df_historical_da_price.drop('_id', axis=1, inplace=True)\n",
    "\n",
    "print(df_forecast.head())\n",
    "print(df_solar.head())\n",
    "print(df_wind.head())\n",
    "print(df_gas_price.head())\n",
    "print(df_gen_outages.head())\n",
    "print(df_historical_da_price.head())"
   ]
  },
  {
   "cell_type": "markdown",
   "metadata": {},
   "source": [
    "### This module is for getting unique areas from each dataframe"
   ]
  },
  {
   "cell_type": "code",
   "execution_count": 76,
   "metadata": {},
   "outputs": [
    {
     "name": "stdout",
     "output_type": "stream",
     "text": [
      "Unique areas in Solar Forecast table: ['MIDATL' 'OTHER' 'RFC' 'RTO' 'SOUTH' 'WEST']\n",
      "Unique areas in Wind Forecast table: ['MIDATL' 'OTHER' 'SOUTH' 'WEST' 'RTO' 'RFC']\n",
      "Unique areas in Load Forecast: ['AEP' 'APS' 'ATSI' 'COMED' 'DAY' 'DEOK' 'DOM' 'DUQ' 'EKPC' 'MIDATL' 'RTO']\n",
      "Unique areas in Historical DA Price: ['DPL']\n"
     ]
    }
   ],
   "source": [
    "# Get unique area values from each dataframe\n",
    "unique_areas_solar = df_solar['area'].unique()\n",
    "unique_areas_wind = df_wind['area'].unique()\n",
    "unique_areas_load_forecast = df_forecast['forecast_area'].unique()\n",
    "unique_areas_historical_da_price = df_historical_da_price['zone'].unique()\n",
    "\n",
    "# Print the unique area values\n",
    "print(\"Unique areas in Solar Forecast table:\", unique_areas_solar)\n",
    "print(\"Unique areas in Wind Forecast table:\", unique_areas_wind)\n",
    "print(\"Unique areas in Load Forecast:\", unique_areas_load_forecast)\n",
    "print(\"Unique areas in Historical DA Price:\", unique_areas_historical_da_price)"
   ]
  },
  {
   "cell_type": "markdown",
   "metadata": {},
   "source": [
    "### This module is for renaming column headings to common datetime heading"
   ]
  },
  {
   "cell_type": "code",
   "execution_count": 77,
   "metadata": {},
   "outputs": [],
   "source": [
    "# Renaming date-time columns in various dataframes to a common date-time column heading\n",
    "df_forecast.rename(columns={'forecast_hour_beginning_ept': 'datetime_beginning_ept'}, inplace=True)\n",
    "df_gen_outages.rename(columns={'forecast_date': 'datetime_beginning_ept'}, inplace=True)\n",
    "df_gas_price.rename(columns={'Date': 'datetime_beginning_ept'}, inplace=True)"
   ]
  },
  {
   "cell_type": "markdown",
   "metadata": {},
   "source": [
    "### This module is for pivoting dataframes and changing column headings for merge"
   ]
  },
  {
   "cell_type": "code",
   "execution_count": 78,
   "metadata": {},
   "outputs": [],
   "source": [
    "# Instead of dropping the duplicate rows, I just averaged them and since they're the same their value shouldn't change\n",
    "wind_pivot = df_wind.pivot_table(index='datetime_beginning_ept', columns='area', values='wind_generation_mw', aggfunc='mean')\n",
    "solar_pivot = df_solar.pivot_table(index='datetime_beginning_ept', columns='area', values='solar_generation_mw', aggfunc='mean')\n",
    "load_forecast_pivot = df_forecast.pivot_table(index='datetime_beginning_ept', columns ='forecast_area', values = 'forecast_load_mw', aggfunc = 'mean')\n",
    "historical_da_pivot = df_historical_da_price.pivot_table(index='datetime_beginning_ept', columns ='zone', values = 'total_lmp_da', aggfunc = 'mean')\n",
    "\n",
    "# Renaming column headings to differentiate from other columns\n",
    "load_forecast_pivot = load_forecast_pivot.rename(columns={col: f\"{col}_forecast\" for col in load_forecast_pivot.columns if col != 'datetime_beginning_ept'})\n",
    "historical_da_pivot = historical_da_pivot.rename(columns={col: f\"{col}_historical_da\" for col in historical_da_pivot.columns if col != 'datetime_beginning_ept'})"
   ]
  },
  {
   "cell_type": "markdown",
   "metadata": {},
   "source": [
    "### This module is for preparing the gen_outages dataset"
   ]
  },
  {
   "cell_type": "code",
   "execution_count": 79,
   "metadata": {},
   "outputs": [
    {
     "name": "stderr",
     "output_type": "stream",
     "text": [
      "/var/folders/65/_bsvm7ws0cndgr2wwftfpgyc0000gn/T/ipykernel_73439/3609800375.py:2: UserWarning: Could not infer format, so each element will be parsed individually, falling back to `dateutil`. To ensure parsing is consistent and as-expected, please specify a format.\n",
      "  df_gen_outages['datetime_beginning_ept'] = pd.to_datetime(df_gen_outages['datetime_beginning_ept'])\n",
      "/var/folders/65/_bsvm7ws0cndgr2wwftfpgyc0000gn/T/ipykernel_73439/3609800375.py:10: FutureWarning: 'H' is deprecated and will be removed in a future version, please use 'h' instead.\n",
      "  df_gen_outages_index = df_gen_outages.set_index('datetime_beginning_ept').resample('H').ffill()\n"
     ]
    }
   ],
   "source": [
    "# Converting the column into date time\n",
    "df_gen_outages['datetime_beginning_ept'] = pd.to_datetime(df_gen_outages['datetime_beginning_ept'])\n",
    "\n",
    "# The gen_outage dataframe has duplicate dates (rows) that and their values need to be averaged \n",
    "df_gen_outages = df_gen_outages.groupby('datetime_beginning_ept').mean().reset_index()\n",
    "\n",
    "# Filtering out rows where the date is earlier than 2022\n",
    "df_gen_outages = df_gen_outages[df_gen_outages['datetime_beginning_ept'].dt.year >= 2022]\n",
    "# Set the 'datetime_beginning_ept' column as the index, resample to hourly increments, and forward fill the gas prices\n",
    "df_gen_outages_index = df_gen_outages.set_index('datetime_beginning_ept').resample('H').ffill()\n",
    "\n",
    "# Reset the index to make 'datetime_beginning_ept' a column again\n",
    "df_gen_outages_index.reset_index(inplace = True)\n",
    "\n",
    "# Convert the 'datetime_beginning_ept' column from datetime to string\n",
    "df_gen_outages_index['datetime_beginning_ept'] = df_gen_outages_index['datetime_beginning_ept'].dt.strftime('%d/%m/%Y %H:%M:%S %p')"
   ]
  },
  {
   "cell_type": "markdown",
   "metadata": {},
   "source": [
    "### This module is for preparing the gas_price dataset"
   ]
  },
  {
   "cell_type": "code",
   "execution_count": 80,
   "metadata": {},
   "outputs": [
    {
     "name": "stderr",
     "output_type": "stream",
     "text": [
      "/var/folders/65/_bsvm7ws0cndgr2wwftfpgyc0000gn/T/ipykernel_73439/2197984658.py:8: FutureWarning: 'H' is deprecated and will be removed in a future version, please use 'h' instead.\n",
      "  df_gas_price_index = df_gas_price.set_index('datetime_beginning_ept').resample('H').ffill()\n"
     ]
    }
   ],
   "source": [
    "# Changing the 'datetime_beginning_ept' column into datetime format\n",
    "df_gas_price['datetime_beginning_ept'] = pd.to_datetime(df_gas_price['datetime_beginning_ept'])\n",
    "\n",
    "# Filtering out rows where the date is earlier than 2022\n",
    "df_gas_price = df_gas_price[df_gas_price['datetime_beginning_ept'].dt.year >= 2022]\n",
    "\n",
    "# Set the 'datetime_beginning_ept' column as the index, resample to hourly increments, and forward fill the gas prices\n",
    "df_gas_price_index = df_gas_price.set_index('datetime_beginning_ept').resample('H').ffill()\n",
    "\n",
    "# Reset the index to make 'datetime_beginning_ept' a column again\n",
    "df_gas_price_index.reset_index(inplace=True)\n",
    "\n",
    "# Convert the 'datetime_beginning_ept' column from datetime to string\n",
    "df_gas_price_index['datetime_beginning_ept'] = df_gas_price_index['datetime_beginning_ept'].dt.strftime('%d/%m/%Y %H:%M:%S %p')"
   ]
  },
  {
   "cell_type": "markdown",
   "metadata": {},
   "source": [
    "### This module is for preparing load_forecast dataset"
   ]
  },
  {
   "cell_type": "code",
   "execution_count": 81,
   "metadata": {},
   "outputs": [
    {
     "name": "stderr",
     "output_type": "stream",
     "text": [
      "/var/folders/65/_bsvm7ws0cndgr2wwftfpgyc0000gn/T/ipykernel_73439/386118209.py:11: FutureWarning: 'H' is deprecated and will be removed in a future version, please use 'h' instead.\n",
      "  df_forecast_resampled = load_forecast_pivot.resample('H').ffill()\n"
     ]
    }
   ],
   "source": [
    "# Converting the column into date time\n",
    "load_forecast_pivot.index = pd.to_datetime(load_forecast_pivot.index)\n",
    "\n",
    "# The gen_outage dataframe has duplicate dates (rows) that and their values need to be averaged\n",
    "load_forecast_pivot = load_forecast_pivot.groupby(load_forecast_pivot.index).mean()\n",
    "\n",
    "#Filtering out rows where the date is earlier than 2022\n",
    "load_forecast_pivot = load_forecast_pivot[load_forecast_pivot.index.year >= 2022]\n",
    "\n",
    "# Set the 'datetime_beginning_ept' column as the index, resample to hourly increments, and forward fill the gas prices\n",
    "df_forecast_resampled = load_forecast_pivot.resample('H').ffill()\n",
    "\n",
    "# Reset the index to make 'datetime_beginning_ept' a column again\n",
    "df_forecast_resampled.reset_index(inplace=True)\n",
    "\n",
    "# Convert the 'datetime_beginning_ept' column from datetime to string\n",
    "df_forecast_resampled['datetime_beginning_ept'] = df_forecast_resampled['datetime_beginning_ept'].dt.strftime('%d/%m/%Y %H:%M:%S %p')"
   ]
  },
  {
   "cell_type": "markdown",
   "metadata": {},
   "source": [
    "### This module is for preparing the solar table"
   ]
  },
  {
   "cell_type": "code",
   "execution_count": 82,
   "metadata": {},
   "outputs": [
    {
     "name": "stderr",
     "output_type": "stream",
     "text": [
      "/var/folders/65/_bsvm7ws0cndgr2wwftfpgyc0000gn/T/ipykernel_73439/1385797169.py:14: FutureWarning: 'H' is deprecated and will be removed in a future version, please use 'h' instead.\n",
      "  df_solar_resampled = solar_pivot.resample('H').ffill()\n"
     ]
    },
    {
     "name": "stdout",
     "output_type": "stream",
     "text": [
      "area   datetime_beginning_ept  MIDATL  OTHER    RFC    RTO  SOUTH   WEST\n",
      "0      01/01/2022 00:00:00 AM  -1.333    0.0 -1.581 -5.175 -3.594 -0.248\n",
      "1      01/01/2022 01:00:00 AM  -1.323    0.0 -1.564 -5.139 -3.575 -0.241\n",
      "2      01/01/2022 02:00:00 AM  -1.355    0.0 -1.601 -5.095 -3.494 -0.246\n",
      "3      01/01/2022 03:00:00 AM  -1.313    0.0 -1.550 -5.115 -3.565 -0.237\n",
      "4      01/01/2022 04:00:00 AM  -1.363    0.0 -1.600 -5.237 -3.637 -0.237\n",
      "...                       ...     ...    ...    ...    ...    ...    ...\n",
      "18931  28/02/2024 19:00:00 PM   0.000    0.0  0.000  0.000  0.000  0.000\n",
      "18932  28/02/2024 20:00:00 PM   0.000    0.0  0.000  0.000  0.000  0.000\n",
      "18933  28/02/2024 21:00:00 PM   0.000    0.0  0.000  0.000  0.000  0.000\n",
      "18934  28/02/2024 22:00:00 PM   0.000    0.0  0.000  0.000  0.000  0.000\n",
      "18935  28/02/2024 23:00:00 PM   0.000    0.0  0.000  0.000  0.000  0.000\n",
      "\n",
      "[18936 rows x 7 columns]\n"
     ]
    }
   ],
   "source": [
    "# Converting the column into date time\n",
    "solar_pivot.index = pd.to_datetime(solar_pivot.index)\n",
    "\n",
    "# The gen_outage dataframe has duplicate dates (rows) that and their values need to be averaged\n",
    "solar_pivot = solar_pivot.groupby(solar_pivot.index).mean()\n",
    "\n",
    "# The gen_outage dataframe has duplicate dates (rows) that and their values need to be averaged\n",
    "solar_pivot = solar_pivot.groupby(solar_pivot.index).mean()\n",
    "\n",
    "#Filtering out rows where the date is earlier than 2022\n",
    "solar_pivot = solar_pivot[solar_pivot.index.year >= 2022]\n",
    "\n",
    "# Set the 'datetime_beginning_ept' column as the index, resample to hourly increments, and forward fill the gas prices\n",
    "df_solar_resampled = solar_pivot.resample('H').ffill()\n",
    "\n",
    "# Reset the index to make 'datetime_beginning_ept' a column again\n",
    "df_solar_resampled.reset_index(inplace=True)\n",
    "\n",
    "# Convert the 'datetime_beginning_ept' column from datetime to string\n",
    "df_solar_resampled['datetime_beginning_ept'] = df_solar_resampled['datetime_beginning_ept'].dt.strftime('%d/%m/%Y %H:%M:%S %p')\n",
    "\n",
    "print(df_solar_resampled)"
   ]
  },
  {
   "cell_type": "markdown",
   "metadata": {},
   "source": [
    "### This module is for preparing the wind table"
   ]
  },
  {
   "cell_type": "code",
   "execution_count": 83,
   "metadata": {},
   "outputs": [
    {
     "name": "stderr",
     "output_type": "stream",
     "text": [
      "/var/folders/65/_bsvm7ws0cndgr2wwftfpgyc0000gn/T/ipykernel_73439/2703916970.py:14: FutureWarning: 'H' is deprecated and will be removed in a future version, please use 'h' instead.\n",
      "  df_wind_resampled = wind_pivot.resample('H').ffill()\n"
     ]
    }
   ],
   "source": [
    "# Converting the column into date time\n",
    "wind_pivot.index = pd.to_datetime(wind_pivot.index)\n",
    "\n",
    "# The gen_outage dataframe has duplicate dates (rows) that and their values need to be averaged\n",
    "wind_pivot = wind_pivot.groupby(wind_pivot.index).mean()\n",
    "\n",
    "# The gen_outage dataframe has duplicate dates (rows) that and their values need to be averaged\n",
    "wind_pivot = wind_pivot.groupby(wind_pivot.index).mean()\n",
    "\n",
    "#Filtering out rows where the date is earlier than 2022\n",
    "wind_pivot = wind_pivot[wind_pivot.index.year >= 2022]\n",
    "\n",
    "# Set the 'datetime_beginning_ept' column as the index, resample to hourly increments, and forward fill the gas prices\n",
    "df_wind_resampled = wind_pivot.resample('H').ffill()\n",
    "\n",
    "# Reset the index to make 'datetime_beginning_ept' a column again\n",
    "df_wind_resampled.reset_index(inplace=True)\n",
    "\n",
    "# Convert the 'datetime_beginning_ept' column from datetime to string\n",
    "df_wind_resampled['datetime_beginning_ept'] = df_wind_resampled['datetime_beginning_ept'].dt.strftime('%d/%m/%Y %H:%M:%S %p')"
   ]
  },
  {
   "cell_type": "markdown",
   "metadata": {},
   "source": [
    "### This module is for preparing the historical_da table"
   ]
  },
  {
   "cell_type": "code",
   "execution_count": 84,
   "metadata": {},
   "outputs": [
    {
     "name": "stderr",
     "output_type": "stream",
     "text": [
      "/var/folders/65/_bsvm7ws0cndgr2wwftfpgyc0000gn/T/ipykernel_73439/225001557.py:14: FutureWarning: 'H' is deprecated and will be removed in a future version, please use 'h' instead.\n",
      "  df_historical_da_resampled = historical_da_pivot.resample('H').ffill()\n"
     ]
    }
   ],
   "source": [
    "# Converting the column into date time\n",
    "historical_da_pivot.index = pd.to_datetime(historical_da_pivot.index)\n",
    "\n",
    "# The gen_outage dataframe has duplicate dates (rows) that and their values need to be averaged\n",
    "historical_da_pivot = historical_da_pivot.groupby(historical_da_pivot.index).mean()\n",
    "\n",
    "# The gen_outage dataframe has duplicate dates (rows) that and their values need to be averaged\n",
    "historical_da_pivot = historical_da_pivot.groupby(historical_da_pivot.index).mean()\n",
    "\n",
    "#Filtering out rows where the date is earlier than 2022\n",
    "historical_da_pivot = historical_da_pivot[historical_da_pivot.index.year >= 2022]\n",
    "\n",
    "# Set the 'datetime_beginning_ept' column as the index, resample to hourly increments, and forward fill the gas prices\n",
    "df_historical_da_resampled = historical_da_pivot.resample('H').ffill()\n",
    "\n",
    "# Reset the index to make 'datetime_beginning_ept' a column again\n",
    "df_historical_da_resampled.reset_index(inplace=True)\n",
    "\n",
    "# Convert the 'datetime_beginning_ept' column from datetime to string\n",
    "df_historical_da_resampled['datetime_beginning_ept'] = df_historical_da_resampled['datetime_beginning_ept'].dt.strftime('%d/%m/%Y %H:%M:%S %p')"
   ]
  },
  {
   "cell_type": "markdown",
   "metadata": {},
   "source": [
    "### Shift data for day ahead"
   ]
  },
  {
   "cell_type": "code",
   "execution_count": 85,
   "metadata": {},
   "outputs": [
    {
     "name": "stdout",
     "output_type": "stream",
     "text": [
      "zone   datetime_beginning_ept  DPL_historical_da\n",
      "24     19/02/2022 00:00:00 AM              38.95\n",
      "25     19/02/2022 01:00:00 AM              36.43\n",
      "26     19/02/2022 02:00:00 AM              36.36\n",
      "27     19/02/2022 03:00:00 AM              36.59\n",
      "28     19/02/2022 04:00:00 AM              38.60\n",
      "...                       ...                ...\n",
      "17252  06/02/2024 20:00:00 PM              30.52\n",
      "17253  06/02/2024 21:00:00 PM              25.41\n",
      "17254  06/02/2024 22:00:00 PM              27.24\n",
      "17255  06/02/2024 23:00:00 PM              26.11\n",
      "17256  07/02/2024 00:00:00 AM              27.71\n",
      "\n",
      "[17233 rows x 2 columns]\n"
     ]
    }
   ],
   "source": [
    "df_historical_da_shift = df_historical_da_resampled.copy()\n",
    "df_historical_da_shift[\"DPL_historical_da\"] = df_historical_da_shift[\"DPL_historical_da\"].shift(24)\n",
    "df_historical_da_shift = df_historical_da_shift[24:]\n",
    "print(df_historical_da_shift)\n"
   ]
  },
  {
   "cell_type": "markdown",
   "metadata": {},
   "source": [
    "### This module merges the dataframes into one"
   ]
  },
  {
   "cell_type": "code",
   "execution_count": 86,
   "metadata": {},
   "outputs": [],
   "source": [
    "# Merge the pivoted DataFrames along the dates\n",
    "merged_df = pd.merge(df_solar_resampled, df_wind_resampled, on='datetime_beginning_ept', suffixes=('_solar', '_wind'))\n",
    "\n",
    "merged_df = pd.merge(merged_df, df_forecast_resampled, on = 'datetime_beginning_ept')\n",
    "\n",
    "merged_df = pd.merge(merged_df, df_historical_da_shift, on = 'datetime_beginning_ept')\n",
    "\n",
    "merged_df = pd.merge(merged_df, df_gen_outages_index, on = 'datetime_beginning_ept')\n",
    "\n",
    "merged_df = pd.merge(merged_df, df_gas_price_index, on = 'datetime_beginning_ept')"
   ]
  },
  {
   "cell_type": "markdown",
   "metadata": {},
   "source": [
    "### This module replaces all empty NaN values with 0"
   ]
  },
  {
   "cell_type": "code",
   "execution_count": 87,
   "metadata": {},
   "outputs": [],
   "source": [
    "merged_df = merged_df.fillna(value=0)"
   ]
  },
  {
   "cell_type": "markdown",
   "metadata": {},
   "source": [
    "### This module converts all columns into their respective datatypes to ensure consistency"
   ]
  },
  {
   "cell_type": "code",
   "execution_count": 88,
   "metadata": {},
   "outputs": [],
   "source": [
    "columns_to_convert = ['MIDATL_solar', 'OTHER_solar', 'RFC_solar',\n",
    "       'RTO_solar', 'SOUTH_solar', 'WEST_solar', 'MIDATL_wind', 'OTHER_wind',\n",
    "       'RFC_wind', 'RTO_wind', 'SOUTH_wind', 'WEST_wind', 'AEP_forecast',\n",
    "       'APS_forecast', 'ATSI_forecast', 'COMED_forecast', 'DAY_forecast',\n",
    "       'DEOK_forecast', 'DOM_forecast', 'DUQ_forecast', 'EKPC_forecast',\n",
    "       'MIDATL_forecast', 'RTO_forecast', 'DPL_historical_da',\n",
    "       'forecast_gen_outage_mw_rto', 'forecast_gen_outage_mw_west',\n",
    "       'forecast_gen_outage_mw_other',\n",
    "       'Henry Hub Natural Gas Spot Price (Dollars per Million Btu)']\n",
    "\n",
    "for column in columns_to_convert:\n",
    "    merged_df[column] = pd.to_numeric(merged_df[column], errors='coerce')"
   ]
  },
  {
   "cell_type": "markdown",
   "metadata": {},
   "source": [
    "### This module replaces all negative solar values with 0"
   ]
  },
  {
   "cell_type": "code",
   "execution_count": 89,
   "metadata": {},
   "outputs": [
    {
     "name": "stdout",
     "output_type": "stream",
     "text": [
      "       datetime_beginning_ept  MIDATL_solar  OTHER_solar  RFC_solar  \\\n",
      "0      19/02/2022 00:00:00 AM           0.0          0.0        0.0   \n",
      "1      19/02/2022 01:00:00 AM           0.0          0.0        0.0   \n",
      "2      19/02/2022 02:00:00 AM           0.0          0.0        0.0   \n",
      "3      19/02/2022 03:00:00 AM           0.0          0.0        0.0   \n",
      "4      19/02/2022 04:00:00 AM           0.0          0.0        0.0   \n",
      "...                       ...           ...          ...        ...   \n",
      "17227  06/02/2024 19:00:00 PM           0.0          0.0        0.0   \n",
      "17228  06/02/2024 20:00:00 PM           0.0          0.0        0.0   \n",
      "17229  06/02/2024 21:00:00 PM           0.0          0.0        0.0   \n",
      "17230  06/02/2024 22:00:00 PM           0.0          0.0        0.0   \n",
      "17231  06/02/2024 23:00:00 PM           0.0          0.0        0.0   \n",
      "\n",
      "       RTO_solar  SOUTH_solar  WEST_solar  MIDATL_wind  OTHER_wind  RFC_wind  \\\n",
      "0            0.0          0.0         0.0      543.833       0.000  7749.579   \n",
      "1            0.0          0.0         0.0      631.555       0.000  7669.941   \n",
      "2            0.0          0.0         0.0      736.464       0.000  7726.962   \n",
      "3            0.0          0.0         0.0      783.231       0.000  7896.692   \n",
      "4            0.0          0.0         0.0      860.240       0.000  8150.219   \n",
      "...          ...          ...         ...          ...         ...       ...   \n",
      "17227        0.0          0.0         0.0       61.862      32.860   724.760   \n",
      "17228        0.0          0.0         0.0       53.747      32.555  1023.869   \n",
      "17229        0.0          0.0         0.0       55.560      31.433  1273.961   \n",
      "17230        0.0          0.0         0.0       41.071      29.998  1428.095   \n",
      "17231        0.0          0.0         0.0       51.711      28.623  1894.910   \n",
      "\n",
      "       ...  DOM_forecast  DUQ_forecast  EKPC_forecast  MIDATL_forecast  \\\n",
      "0      ...  13124.200000   1428.200000    1825.200000     29872.800000   \n",
      "1      ...  13098.200000   1399.400000    1818.400000     29506.400000   \n",
      "2      ...  13255.800000   1381.400000    1824.600000     29435.800000   \n",
      "3      ...  13455.400000   1375.400000    1831.400000     29589.800000   \n",
      "4      ...  13840.333333   1384.500000    1882.333333     30146.166667   \n",
      "...    ...           ...           ...            ...              ...   \n",
      "17227  ...  16275.111111   1601.333333    1941.666667     36055.333333   \n",
      "17228  ...  16309.222222   1588.444444    1977.777778     35548.333333   \n",
      "17229  ...  16058.444444   1552.333333    1971.222222     34477.000000   \n",
      "17230  ...  15672.400000   1497.200000    1927.400000     32638.700000   \n",
      "17231  ...  15264.400000   1442.200000    1890.500000     31068.100000   \n",
      "\n",
      "        RTO_forecast  DPL_historical_da  forecast_gen_outage_mw_rto  \\\n",
      "0       90802.000000              38.95                 3216.836735   \n",
      "1       89577.400000              36.43                 3216.836735   \n",
      "2       89291.600000              36.36                 3216.836735   \n",
      "3       89587.800000              36.59                 3216.836735   \n",
      "4       91159.000000              38.60                 3216.836735   \n",
      "...              ...                ...                         ...   \n",
      "17227  104239.777778              37.73                 1981.593407   \n",
      "17228  103658.666667              30.52                 1981.593407   \n",
      "17229  101522.777778              25.41                 1981.593407   \n",
      "17230   97698.300000              27.24                 1981.593407   \n",
      "17231   94066.500000              26.11                 1981.593407   \n",
      "\n",
      "       forecast_gen_outage_mw_west  forecast_gen_outage_mw_other  \\\n",
      "0                       267.714286                   2949.122449   \n",
      "1                       267.714286                   2949.122449   \n",
      "2                       267.714286                   2949.122449   \n",
      "3                       267.714286                   2949.122449   \n",
      "4                       267.714286                   2949.122449   \n",
      "...                            ...                           ...   \n",
      "17227                   123.285714                   1858.307692   \n",
      "17228                   123.285714                   1858.307692   \n",
      "17229                   123.285714                   1858.307692   \n",
      "17230                   123.285714                   1858.307692   \n",
      "17231                   123.285714                   1858.307692   \n",
      "\n",
      "       Henry Hub Natural Gas Spot Price (Dollars per Million Btu)  \n",
      "0                                                   4.61           \n",
      "1                                                   4.61           \n",
      "2                                                   4.61           \n",
      "3                                                   4.61           \n",
      "4                                                   4.61           \n",
      "...                                                  ...           \n",
      "17227                                               2.10           \n",
      "17228                                               2.10           \n",
      "17229                                               2.10           \n",
      "17230                                               2.10           \n",
      "17231                                               2.10           \n",
      "\n",
      "[17232 rows x 29 columns]\n"
     ]
    }
   ],
   "source": [
    "solar_columns = ['MIDATL_solar', 'OTHER_solar', 'RFC_solar',\n",
    "       'RTO_solar', 'SOUTH_solar', 'WEST_solar']\n",
    "\n",
    "for column in solar_columns:\n",
    "    merged_df[column] = merged_df[column].where(merged_df[column] > 0, 0)\n",
    "\n",
    "print(merged_df)"
   ]
  },
  {
   "cell_type": "markdown",
   "metadata": {},
   "source": [
    "### This module saves the new merged DataFrame as a csv"
   ]
  },
  {
   "cell_type": "code",
   "execution_count": null,
   "metadata": {},
   "outputs": [],
   "source": [
    "merged_df.to_csv('../../Predictions/Data/Final_table.csv', index=False)\n",
    "merged_df.to_csv('../Output/Final_table.csv', index=False)"
   ]
  },
  {
   "cell_type": "markdown",
   "metadata": {},
   "source": [
    "### This module sends the data to MongoDB"
   ]
  },
  {
   "cell_type": "code",
   "execution_count": null,
   "metadata": {},
   "outputs": [],
   "source": [
    "# db[\"Merged\"].insert_many(merged_df.to_dict('records'))"
   ]
  }
 ],
 "metadata": {
  "kernelspec": {
   "display_name": "Python 3.11.5 ('base')",
   "language": "python",
   "name": "python3"
  },
  "language_info": {
   "codemirror_mode": {
    "name": "ipython",
    "version": 3
   },
   "file_extension": ".py",
   "mimetype": "text/x-python",
   "name": "python",
   "nbconvert_exporter": "python",
   "pygments_lexer": "ipython3",
   "version": "3.11.6"
  },
  "vscode": {
   "interpreter": {
    "hash": "791c8592c28610ae30b7495c568f893d54f80b51d9fb9ee3e87e9d9ab9ca5e13"
   }
  }
 },
 "nbformat": 4,
 "nbformat_minor": 2
}
