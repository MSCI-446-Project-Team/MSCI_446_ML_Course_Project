{
 "cells": [
  {
   "cell_type": "code",
   "execution_count": 1,
   "metadata": {},
   "outputs": [],
   "source": [
    "from dotenv import load_dotenv\n",
    "import pandas as pd\n",
    "import os\n",
    "from pymongo import MongoClient\n",
    "\n",
    "load_dotenv()\n",
    "cluster_uri = os.environ.get(\"MONGODB_URI\")\n",
    "client = MongoClient(cluster_uri)\n",
    "db = client[\"MSCI446_DB\"]"
   ]
  },
  {
   "cell_type": "markdown",
   "metadata": {},
   "source": [
    "### This module is for loading the data and transforming them into dataframes"
   ]
  },
  {
   "cell_type": "code",
   "execution_count": 2,
   "metadata": {},
   "outputs": [
    {
     "name": "stdout",
     "output_type": "stream",
     "text": [
      "  forecast_hour_beginning_ept forecast_area  forecast_load_mw\n",
      "0        1/1/2024 12:00:00 AM           AEP             14145\n",
      "1         1/1/2024 1:00:00 AM           AEP             13908\n",
      "2         1/1/2024 2:00:00 AM           AEP             13765\n",
      "3         1/1/2024 3:00:00 AM           AEP             13788\n",
      "4         1/1/2024 4:00:00 AM           AEP             13862\n",
      "  datetime_beginning_ept    area  solar_generation_mw\n",
      "0  2/28/2024 11:00:00 PM  MIDATL                  0.0\n",
      "1  2/28/2024 11:00:00 PM   OTHER                  0.0\n",
      "2  2/28/2024 11:00:00 PM     RFC                  0.0\n",
      "3  2/28/2024 11:00:00 PM     RTO                  0.0\n",
      "4  2/28/2024 11:00:00 PM   SOUTH                  0.0\n",
      "   datetime_beginning_ept    area  wind_generation_mw\n",
      "0  12/31/2023 11:00:00 PM  MIDATL              75.609\n",
      "1  12/31/2023 11:00:00 PM   OTHER              26.714\n",
      "2  12/31/2023 11:00:00 PM   SOUTH             109.142\n",
      "3  12/31/2023 11:00:00 PM    WEST            4174.260\n",
      "4  12/31/2023 11:00:00 PM     RTO            4359.011\n",
      "           Date  Henry Hub Natural Gas Spot Price (Dollars per Million Btu)\n",
      "0  Jan 07, 1997                                               3.82         \n",
      "1  Jan 08, 1997                                               3.80         \n",
      "2  Jan 09, 1997                                               3.61         \n",
      "3  Jan 10, 1997                                               3.92         \n",
      "4  Jan 11, 1997                                               3.92         \n",
      "          forecast_date  forecast_gen_outage_mw_rto  \\\n",
      "0  1/1/2024 12:00:00 AM                        2138   \n",
      "1  1/2/2024 12:00:00 AM                        2205   \n",
      "2  1/3/2024 12:00:00 AM                        2229   \n",
      "3  1/4/2024 12:00:00 AM                        2205   \n",
      "4  1/5/2024 12:00:00 AM                        2202   \n",
      "\n",
      "   forecast_gen_outage_mw_west  forecast_gen_outage_mw_other  \n",
      "0                            4                          2134  \n",
      "1                           23                          2182  \n",
      "2                           23                          2206  \n",
      "3                           23                          2182  \n",
      "4                           23                          2179  \n",
      "  datetime_beginning_ept  pnode_id pnode_name zone  system_energy_price_da  \\\n",
      "0   7/1/2022 12:00:00 AM     49858      AIREY  DPL                   57.86   \n",
      "1    7/1/2022 1:00:00 AM     49858      AIREY  DPL                   49.17   \n",
      "2    7/1/2022 2:00:00 AM     49858      AIREY  DPL                   45.93   \n",
      "3    7/1/2022 3:00:00 AM     49858      AIREY  DPL                   43.30   \n",
      "4    7/1/2022 4:00:00 AM     49858      AIREY  DPL                   43.04   \n",
      "\n",
      "   total_lmp_da  congestion_price_da  marginal_loss_price_da  \n",
      "0         61.24                 0.07                    3.31  \n",
      "1         51.86                 0.05                    2.64  \n",
      "2         47.79                 0.04                    1.82  \n",
      "3         45.00                 0.05                    1.65  \n",
      "4         45.00                 0.05                    1.91  \n"
     ]
    }
   ],
   "source": [
    "# This module converts the objects pulled from Mono DB into a dataframe\n",
    "collection_forecast = db[\"Load_Forecast\"]\n",
    "collection_solar = db[\"Solar_Forecast\"]\n",
    "collection_wind = db[\"Wind_Forecast\"]\n",
    "collection_gas_price = db[\"Gas_Prices\"]\n",
    "collection_gen_outages = db[\"Gen_Outages\"]\n",
    "collection_historical_da_price = db[\"Historical_DA_Prices\"]\n",
    "\n",
    "documents_forecast = list(collection_forecast.find())\n",
    "documents_solar = list(collection_solar.find())\n",
    "documents_wind = list(collection_wind.find())\n",
    "documents_gas_price = list(collection_gas_price.find())\n",
    "documents_gen_outages = list(collection_gen_outages.find())\n",
    "documents_historical_da_price = list(collection_historical_da_price.find())\n",
    "\n",
    "# Converting documents into dataframes\n",
    "df_forecast = pd.DataFrame(documents_forecast)\n",
    "df_solar = pd.DataFrame(documents_solar)\n",
    "df_wind = pd.DataFrame(documents_wind)\n",
    "df_gas_price = pd.DataFrame(documents_gas_price)\n",
    "df_gen_outages = pd.DataFrame(documents_gen_outages)\n",
    "df_historical_da_price = pd.DataFrame(documents_historical_da_price)\n",
    "\n",
    "# Dropping the id column\n",
    "df_forecast.drop('_id', axis=1, inplace=True)\n",
    "df_solar.drop('_id', axis=1, inplace=True)\n",
    "df_wind.drop('_id', axis=1, inplace=True)\n",
    "df_gas_price.drop('_id', axis=1, inplace=True)\n",
    "df_gen_outages.drop('_id', axis=1, inplace=True)\n",
    "df_historical_da_price.drop('_id', axis=1, inplace=True)\n",
    "\n",
    "print(df_forecast.head())\n",
    "print(df_solar.head())\n",
    "print(df_wind.head())\n",
    "print(df_gas_price.head())\n",
    "print(df_gen_outages.head())\n",
    "print(df_historical_da_price.head())"
   ]
  },
  {
   "cell_type": "markdown",
   "metadata": {},
   "source": [
    "### This module is for getting unique areas from each dataframe"
   ]
  },
  {
   "cell_type": "code",
   "execution_count": 3,
   "metadata": {},
   "outputs": [
    {
     "name": "stdout",
     "output_type": "stream",
     "text": [
      "Unique areas in Solar Forecast table: ['MIDATL' 'OTHER' 'RFC' 'RTO' 'SOUTH' 'WEST']\n",
      "Unique areas in Wind Forecast table: ['MIDATL' 'OTHER' 'SOUTH' 'WEST' 'RTO' 'RFC']\n",
      "Unique areas in Load Forecast: ['AEP' 'APS' 'ATSI' 'COMED' 'DAY' 'DEOK' 'DOM' 'DUQ' 'EKPC' 'MIDATL' 'RTO']\n",
      "Unique areas in Historical DA Price: ['DPL']\n"
     ]
    }
   ],
   "source": [
    "# Get unique area values from each dataframe\n",
    "unique_areas_solar = df_solar['area'].unique()\n",
    "unique_areas_wind = df_wind['area'].unique()\n",
    "unique_areas_load_forecast = df_forecast['forecast_area'].unique()\n",
    "unique_areas_historical_da_price = df_historical_da_price['zone'].unique()\n",
    "\n",
    "# Print the unique area values\n",
    "print(\"Unique areas in Solar Forecast table:\", unique_areas_solar)\n",
    "print(\"Unique areas in Wind Forecast table:\", unique_areas_wind)\n",
    "print(\"Unique areas in Load Forecast:\", unique_areas_load_forecast)\n",
    "print(\"Unique areas in Historical DA Price:\", unique_areas_historical_da_price)"
   ]
  },
  {
   "cell_type": "markdown",
   "metadata": {},
   "source": [
    "### This module is for renaming column headings to common datetime heading"
   ]
  },
  {
   "cell_type": "code",
   "execution_count": 4,
   "metadata": {},
   "outputs": [],
   "source": [
    "# Renaming date-time columns in various dataframes to a common date-time column heading\n",
    "df_forecast.rename(columns={'forecast_hour_beginning_ept': 'datetime_beginning_ept'}, inplace=True)\n",
    "df_gen_outages.rename(columns={'forecast_date': 'datetime_beginning_ept'}, inplace=True)\n",
    "df_gas_price.rename(columns={'Date': 'datetime_beginning_ept'}, inplace=True)"
   ]
  },
  {
   "cell_type": "markdown",
   "metadata": {},
   "source": [
    "### This module is for pivoting dataframes and changing column headings for merge"
   ]
  },
  {
   "cell_type": "code",
   "execution_count": 5,
   "metadata": {},
   "outputs": [],
   "source": [
    "# Instead of dropping the duplicate rows, I just averaged them and since they're the same their value shouldn't change\n",
    "wind_pivot = df_wind.pivot_table(index='datetime_beginning_ept', columns='area', values='wind_generation_mw', aggfunc='mean')\n",
    "solar_pivot = df_solar.pivot_table(index='datetime_beginning_ept', columns='area', values='solar_generation_mw', aggfunc='mean')\n",
    "load_forecast_pivot = df_forecast.pivot_table(index='datetime_beginning_ept', columns ='forecast_area', values = 'forecast_load_mw', aggfunc = 'mean')\n",
    "historical_da_pivot = df_historical_da_price.pivot_table(index='datetime_beginning_ept', columns ='zone', values = 'total_lmp_da', aggfunc = 'mean')\n",
    "\n",
    "# Renaming column headings to differentiate from other columns\n",
    "load_forecast_pivot = load_forecast_pivot.rename(columns={col: f\"{col}_forecast\" for col in load_forecast_pivot.columns if col != 'datetime_beginning_ept'})\n",
    "historical_da_pivot = historical_da_pivot.rename(columns={col: f\"{col}_historical_da\" for col in historical_da_pivot.columns if col != 'datetime_beginning_ept'})"
   ]
  },
  {
   "cell_type": "markdown",
   "metadata": {},
   "source": [
    "### This module is for preparing the gen_outages dataset"
   ]
  },
  {
   "cell_type": "code",
   "execution_count": 6,
   "metadata": {},
   "outputs": [
    {
     "name": "stdout",
     "output_type": "stream",
     "text": [
      "       datetime_beginning_ept  forecast_gen_outage_mw_rto  \\\n",
      "21116  30/05/2024 20:00:00 PM                     12119.0   \n",
      "21117  30/05/2024 21:00:00 PM                     12119.0   \n",
      "21118  30/05/2024 22:00:00 PM                     12119.0   \n",
      "21119  30/05/2024 23:00:00 PM                     12119.0   \n",
      "21120  31/05/2024 00:00:00 AM                     11724.0   \n",
      "\n",
      "       forecast_gen_outage_mw_west  forecast_gen_outage_mw_other  \n",
      "21116                       5494.0                        6625.0  \n",
      "21117                       5494.0                        6625.0  \n",
      "21118                       5494.0                        6625.0  \n",
      "21119                       5494.0                        6625.0  \n",
      "21120                       5314.0                        6410.0  \n"
     ]
    },
    {
     "name": "stderr",
     "output_type": "stream",
     "text": [
      "/var/folders/8z/yxhm1c6x4bvg_s6d6w0cl6_80000gn/T/ipykernel_37657/3941139758.py:2: UserWarning: Could not infer format, so each element will be parsed individually, falling back to `dateutil`. To ensure parsing is consistent and as-expected, please specify a format.\n",
      "  df_gen_outages['datetime_beginning_ept'] = pd.to_datetime(df_gen_outages['datetime_beginning_ept'])\n",
      "/var/folders/8z/yxhm1c6x4bvg_s6d6w0cl6_80000gn/T/ipykernel_37657/3941139758.py:10: FutureWarning: 'H' is deprecated and will be removed in a future version, please use 'h' instead.\n",
      "  df_gen_outages_index = df_gen_outages.set_index('datetime_beginning_ept').resample('H').ffill()\n"
     ]
    }
   ],
   "source": [
    "# Converting the column into date time\n",
    "df_gen_outages['datetime_beginning_ept'] = pd.to_datetime(df_gen_outages['datetime_beginning_ept'])\n",
    "\n",
    "# The gen_outage dataframe has duplicate dates (rows) that and their values need to be averaged \n",
    "df_gen_outages = df_gen_outages.groupby('datetime_beginning_ept').mean().reset_index()\n",
    "\n",
    "# Filtering out rows where the date is earlier than 2022\n",
    "df_gen_outages = df_gen_outages[df_gen_outages['datetime_beginning_ept'].dt.year >= 2022]\n",
    "# Set the 'datetime_beginning_ept' column as the index, resample to hourly increments, and forward fill the gas prices\n",
    "df_gen_outages_index = df_gen_outages.set_index('datetime_beginning_ept').resample('H').ffill()\n",
    "\n",
    "# Reset the index to make 'datetime_beginning_ept' a column again\n",
    "df_gen_outages_index.reset_index(inplace = True)\n",
    "\n",
    "# Convert the 'datetime_beginning_ept' column from datetime to string\n",
    "df_gen_outages_index['datetime_beginning_ept'] = df_gen_outages_index['datetime_beginning_ept'].dt.strftime('%d/%m/%Y %H:%M:%S %p')\n",
    "\n",
    "print(df_gen_outages_index.tail())"
   ]
  },
  {
   "cell_type": "markdown",
   "metadata": {},
   "source": [
    "### This module is for preparing the gas_price dataset"
   ]
  },
  {
   "cell_type": "code",
   "execution_count": 7,
   "metadata": {},
   "outputs": [
    {
     "name": "stdout",
     "output_type": "stream",
     "text": [
      "       datetime_beginning_ept  \\\n",
      "0      01/01/2022 00:00:00 AM   \n",
      "1      01/01/2022 01:00:00 AM   \n",
      "2      01/01/2022 02:00:00 AM   \n",
      "3      01/01/2022 03:00:00 AM   \n",
      "4      01/01/2022 04:00:00 AM   \n",
      "...                       ...   \n",
      "18884  26/02/2024 20:00:00 PM   \n",
      "18885  26/02/2024 21:00:00 PM   \n",
      "18886  26/02/2024 22:00:00 PM   \n",
      "18887  26/02/2024 23:00:00 PM   \n",
      "18888  27/02/2024 00:00:00 AM   \n",
      "\n",
      "       Henry Hub Natural Gas Spot Price (Dollars per Million Btu)  \n",
      "0                                                   3.82           \n",
      "1                                                   3.82           \n",
      "2                                                   3.82           \n",
      "3                                                   3.82           \n",
      "4                                                   3.82           \n",
      "...                                                  ...           \n",
      "18884                                               1.65           \n",
      "18885                                               1.65           \n",
      "18886                                               1.65           \n",
      "18887                                               1.65           \n",
      "18888                                               1.52           \n",
      "\n",
      "[18889 rows x 2 columns]\n"
     ]
    },
    {
     "name": "stderr",
     "output_type": "stream",
     "text": [
      "/var/folders/8z/yxhm1c6x4bvg_s6d6w0cl6_80000gn/T/ipykernel_37657/1935191083.py:8: FutureWarning: 'H' is deprecated and will be removed in a future version, please use 'h' instead.\n",
      "  df_gas_price_index = df_gas_price.set_index('datetime_beginning_ept').resample('H').ffill()\n"
     ]
    }
   ],
   "source": [
    "# Changing the 'datetime_beginning_ept' column into datetime format\n",
    "df_gas_price['datetime_beginning_ept'] = pd.to_datetime(df_gas_price['datetime_beginning_ept'])\n",
    "\n",
    "# Filtering out rows where the date is earlier than 2022\n",
    "df_gas_price = df_gas_price[df_gas_price['datetime_beginning_ept'].dt.year >= 2022]\n",
    "\n",
    "# Set the 'datetime_beginning_ept' column as the index, resample to hourly increments, and forward fill the gas prices\n",
    "df_gas_price_index = df_gas_price.set_index('datetime_beginning_ept').resample('H').ffill()\n",
    "\n",
    "# Reset the index to make 'datetime_beginning_ept' a column again\n",
    "df_gas_price_index.reset_index(inplace=True)\n",
    "\n",
    "# Convert the 'datetime_beginning_ept' column from datetime to string\n",
    "df_gas_price_index['datetime_beginning_ept'] = df_gas_price_index['datetime_beginning_ept'].dt.strftime('%d/%m/%Y %H:%M:%S %p')\n",
    "\n",
    "# Print the first few rows of the resampled DataFrame to verify the results\n",
    "print(df_gas_price_index)"
   ]
  },
  {
   "cell_type": "markdown",
   "metadata": {},
   "source": [
    "### This module is for preparing load_forecast dataset"
   ]
  },
  {
   "cell_type": "code",
   "execution_count": 8,
   "metadata": {},
   "outputs": [
    {
     "name": "stderr",
     "output_type": "stream",
     "text": [
      "/var/folders/8z/yxhm1c6x4bvg_s6d6w0cl6_80000gn/T/ipykernel_37657/242692983.py:11: FutureWarning: 'H' is deprecated and will be removed in a future version, please use 'h' instead.\n",
      "  df_forecast_resampled = load_forecast_pivot.resample('H').ffill()\n"
     ]
    },
    {
     "name": "stdout",
     "output_type": "stream",
     "text": [
      "forecast_area  datetime_beginning_ept  AEP_forecast  APS_forecast  \\\n",
      "0              01/01/2022 00:00:00 AM  11448.600000   4509.200000   \n",
      "1              01/01/2022 01:00:00 AM  11122.600000   4378.000000   \n",
      "2              01/01/2022 02:00:00 AM  10934.600000   4292.000000   \n",
      "3              01/01/2022 03:00:00 AM  10830.200000   4258.000000   \n",
      "4              01/01/2022 04:00:00 AM  10876.833333   4266.166667   \n",
      "...                               ...           ...           ...   \n",
      "18403          06/02/2024 19:00:00 PM  16341.333333   6669.222222   \n",
      "18404          06/02/2024 20:00:00 PM  16403.888889   6662.222222   \n",
      "18405          06/02/2024 21:00:00 PM  16210.666667   6538.000000   \n",
      "18406          06/02/2024 22:00:00 PM  15771.000000   6352.400000   \n",
      "18407          06/02/2024 23:00:00 PM  15351.700000   6151.600000   \n",
      "\n",
      "forecast_area  ATSI_forecast  COMED_forecast  DAY_forecast  DEOK_forecast  \\\n",
      "0                5813.000000     9282.000000   1483.000000    2242.400000   \n",
      "1                5622.800000     8959.200000   1426.000000    2153.400000   \n",
      "2                5526.600000     8760.200000   1392.000000    2110.400000   \n",
      "3                5466.400000     8634.000000   1373.000000    2076.400000   \n",
      "4                5462.500000     8532.833333   1361.333333    2056.166667   \n",
      "...                      ...             ...           ...            ...   \n",
      "18403            8484.777778    11509.222222   2187.333333    3174.444444   \n",
      "18404            8428.888889    11396.666667   2179.777778    3163.444444   \n",
      "18405            8265.777778    11218.777778   2134.333333    3096.222222   \n",
      "18406            7923.200000    10888.500000   2048.700000    2978.800000   \n",
      "18407            7636.700000    10425.000000   1977.100000    2859.200000   \n",
      "\n",
      "forecast_area  DOM_forecast  DUQ_forecast  EKPC_forecast  MIDATL_forecast  \\\n",
      "0               9407.200000   1168.000000    1052.600000     23448.400000   \n",
      "1               9024.200000   1129.800000    1009.400000     22278.200000   \n",
      "2               8819.400000   1105.000000     984.400000     21609.400000   \n",
      "3               8715.000000   1089.000000     968.400000     21319.400000   \n",
      "4               8825.000000   1095.000000     950.833333     21460.333333   \n",
      "...                     ...           ...            ...              ...   \n",
      "18403          16275.111111   1601.333333    1941.666667     36055.333333   \n",
      "18404          16309.222222   1588.444444    1977.777778     35548.333333   \n",
      "18405          16058.444444   1552.333333    1971.222222     34477.000000   \n",
      "18406          15672.400000   1497.200000    1927.400000     32638.700000   \n",
      "18407          15264.400000   1442.200000    1890.500000     31068.100000   \n",
      "\n",
      "forecast_area   RTO_forecast  \n",
      "0               69854.400000  \n",
      "1               67103.600000  \n",
      "2               65534.000000  \n",
      "3               64729.800000  \n",
      "4               64887.000000  \n",
      "...                      ...  \n",
      "18403          104239.777778  \n",
      "18404          103658.666667  \n",
      "18405          101522.777778  \n",
      "18406           97698.300000  \n",
      "18407           94066.500000  \n",
      "\n",
      "[18408 rows x 12 columns]\n"
     ]
    }
   ],
   "source": [
    "# Converting the column into date time\n",
    "load_forecast_pivot.index = pd.to_datetime(load_forecast_pivot.index)\n",
    "\n",
    "# The gen_outage dataframe has duplicate dates (rows) that and their values need to be averaged\n",
    "load_forecast_pivot = load_forecast_pivot.groupby(load_forecast_pivot.index).mean()\n",
    "\n",
    "#Filtering out rows where the date is earlier than 2022\n",
    "load_forecast_pivot = load_forecast_pivot[load_forecast_pivot.index.year >= 2022]\n",
    "\n",
    "# Set the 'datetime_beginning_ept' column as the index, resample to hourly increments, and forward fill the gas prices\n",
    "df_forecast_resampled = load_forecast_pivot.resample('H').ffill()\n",
    "\n",
    "# Reset the index to make 'datetime_beginning_ept' a column again\n",
    "df_forecast_resampled.reset_index(inplace=True)\n",
    "\n",
    "# Convert the 'datetime_beginning_ept' column from datetime to string\n",
    "df_forecast_resampled['datetime_beginning_ept'] = df_forecast_resampled['datetime_beginning_ept'].dt.strftime('%d/%m/%Y %H:%M:%S %p')\n",
    "\n",
    "print(df_forecast_resampled)"
   ]
  },
  {
   "cell_type": "markdown",
   "metadata": {},
   "source": [
    "### This module is for preparing the solar table"
   ]
  },
  {
   "cell_type": "code",
   "execution_count": 9,
   "metadata": {},
   "outputs": [
    {
     "name": "stdout",
     "output_type": "stream",
     "text": [
      "area   datetime_beginning_ept  MIDATL  OTHER    RFC    RTO  SOUTH   WEST\n",
      "0      01/01/2022 00:00:00 AM  -1.333    0.0 -1.581 -5.175 -3.594 -0.248\n",
      "1      01/01/2022 01:00:00 AM  -1.323    0.0 -1.564 -5.139 -3.575 -0.241\n",
      "2      01/01/2022 02:00:00 AM  -1.355    0.0 -1.601 -5.095 -3.494 -0.246\n",
      "3      01/01/2022 03:00:00 AM  -1.313    0.0 -1.550 -5.115 -3.565 -0.237\n",
      "4      01/01/2022 04:00:00 AM  -1.363    0.0 -1.600 -5.237 -3.637 -0.237\n",
      "...                       ...     ...    ...    ...    ...    ...    ...\n",
      "18931  28/02/2024 19:00:00 PM   0.000    0.0  0.000  0.000  0.000  0.000\n",
      "18932  28/02/2024 20:00:00 PM   0.000    0.0  0.000  0.000  0.000  0.000\n",
      "18933  28/02/2024 21:00:00 PM   0.000    0.0  0.000  0.000  0.000  0.000\n",
      "18934  28/02/2024 22:00:00 PM   0.000    0.0  0.000  0.000  0.000  0.000\n",
      "18935  28/02/2024 23:00:00 PM   0.000    0.0  0.000  0.000  0.000  0.000\n",
      "\n",
      "[18936 rows x 7 columns]\n"
     ]
    },
    {
     "name": "stderr",
     "output_type": "stream",
     "text": [
      "/var/folders/8z/yxhm1c6x4bvg_s6d6w0cl6_80000gn/T/ipykernel_37657/1385797169.py:14: FutureWarning: 'H' is deprecated and will be removed in a future version, please use 'h' instead.\n",
      "  df_solar_resampled = solar_pivot.resample('H').ffill()\n"
     ]
    }
   ],
   "source": [
    "# Converting the column into date time\n",
    "solar_pivot.index = pd.to_datetime(solar_pivot.index)\n",
    "\n",
    "# The gen_outage dataframe has duplicate dates (rows) that and their values need to be averaged\n",
    "solar_pivot = solar_pivot.groupby(solar_pivot.index).mean()\n",
    "\n",
    "# The gen_outage dataframe has duplicate dates (rows) that and their values need to be averaged\n",
    "solar_pivot = solar_pivot.groupby(solar_pivot.index).mean()\n",
    "\n",
    "#Filtering out rows where the date is earlier than 2022\n",
    "solar_pivot = solar_pivot[solar_pivot.index.year >= 2022]\n",
    "\n",
    "# Set the 'datetime_beginning_ept' column as the index, resample to hourly increments, and forward fill the gas prices\n",
    "df_solar_resampled = solar_pivot.resample('H').ffill()\n",
    "\n",
    "# Reset the index to make 'datetime_beginning_ept' a column again\n",
    "df_solar_resampled.reset_index(inplace=True)\n",
    "\n",
    "# Convert the 'datetime_beginning_ept' column from datetime to string\n",
    "df_solar_resampled['datetime_beginning_ept'] = df_solar_resampled['datetime_beginning_ept'].dt.strftime('%d/%m/%Y %H:%M:%S %p')\n",
    "\n",
    "print(df_solar_resampled)"
   ]
  },
  {
   "cell_type": "markdown",
   "metadata": {},
   "source": [
    "### This module is for preparing the wind table"
   ]
  },
  {
   "cell_type": "code",
   "execution_count": 10,
   "metadata": {},
   "outputs": [
    {
     "name": "stderr",
     "output_type": "stream",
     "text": [
      "/var/folders/8z/yxhm1c6x4bvg_s6d6w0cl6_80000gn/T/ipykernel_37657/100216901.py:14: FutureWarning: 'H' is deprecated and will be removed in a future version, please use 'h' instead.\n",
      "  df_wind_resampled = wind_pivot.resample('H').ffill()\n"
     ]
    },
    {
     "name": "stdout",
     "output_type": "stream",
     "text": [
      "area   datetime_beginning_ept   MIDATL   OTHER       RFC       RTO    SOUTH  \\\n",
      "0      01/01/2022 00:00:00 AM  444.796     NaN  3543.618  3737.387  193.769   \n",
      "1      01/01/2022 01:00:00 AM  496.060     NaN  3319.472  3543.083  223.611   \n",
      "2      01/01/2022 02:00:00 AM  600.131     NaN  3415.238  3624.553  209.315   \n",
      "3      01/01/2022 03:00:00 AM  616.684     NaN  3459.549  3628.006  168.457   \n",
      "4      01/01/2022 04:00:00 AM  570.549     NaN  3570.517  3705.773  135.256   \n",
      "...                       ...      ...     ...       ...       ...      ...   \n",
      "18979  01/03/2024 19:00:00 PM  740.607  25.902  3205.173  3411.118  205.945   \n",
      "18980  01/03/2024 20:00:00 PM  817.800  24.567  3404.145  3600.823  196.678   \n",
      "18981  01/03/2024 21:00:00 PM  807.747  23.893  3484.830  3711.032  226.202   \n",
      "18982  01/03/2024 22:00:00 PM  795.035  22.740  3254.662  3433.766  179.104   \n",
      "18983  01/03/2024 23:00:00 PM  760.054  21.582  3058.629  3264.883  206.254   \n",
      "\n",
      "area       WEST  \n",
      "0      3098.822  \n",
      "1      2823.412  \n",
      "2      2815.107  \n",
      "3      2842.865  \n",
      "4      2999.968  \n",
      "...         ...  \n",
      "18979  2464.566  \n",
      "18980  2586.345  \n",
      "18981  2677.083  \n",
      "18982  2459.627  \n",
      "18983  2298.575  \n",
      "\n",
      "[18984 rows x 7 columns]\n"
     ]
    }
   ],
   "source": [
    "# Converting the column into date time\n",
    "wind_pivot.index = pd.to_datetime(wind_pivot.index)\n",
    "\n",
    "# The gen_outage dataframe has duplicate dates (rows) that and their values need to be averaged\n",
    "wind_pivot = wind_pivot.groupby(wind_pivot.index).mean()\n",
    "\n",
    "# The gen_outage dataframe has duplicate dates (rows) that and their values need to be averaged\n",
    "wind_pivot = wind_pivot.groupby(wind_pivot.index).mean()\n",
    "\n",
    "#Filtering out rows where the date is earlier than 2022\n",
    "wind_pivot = wind_pivot[wind_pivot.index.year >= 2022]\n",
    "\n",
    "# Set the 'datetime_beginning_ept' column as the index, resample to hourly increments, and forward fill the gas prices\n",
    "df_wind_resampled = wind_pivot.resample('H').ffill()\n",
    "\n",
    "# Reset the index to make 'datetime_beginning_ept' a column again\n",
    "df_wind_resampled.reset_index(inplace=True)\n",
    "\n",
    "# Convert the 'datetime_beginning_ept' column from datetime to string\n",
    "df_wind_resampled['datetime_beginning_ept'] = df_wind_resampled['datetime_beginning_ept'].dt.strftime('%d/%m/%Y %H:%M:%S %p')\n",
    "\n",
    "print(df_wind_resampled)"
   ]
  },
  {
   "cell_type": "markdown",
   "metadata": {},
   "source": [
    "### This module is for preparing the historical_da table"
   ]
  },
  {
   "cell_type": "code",
   "execution_count": 11,
   "metadata": {},
   "outputs": [
    {
     "name": "stderr",
     "output_type": "stream",
     "text": [
      "/var/folders/8z/yxhm1c6x4bvg_s6d6w0cl6_80000gn/T/ipykernel_37657/790701905.py:14: FutureWarning: 'H' is deprecated and will be removed in a future version, please use 'h' instead.\n",
      "  df_historical_da_resampled = historical_da_pivot.resample('H').ffill()\n"
     ]
    },
    {
     "name": "stdout",
     "output_type": "stream",
     "text": [
      "zone   datetime_beginning_ept  DPL_historical_da\n",
      "0      18/02/2022 00:00:00 AM              38.95\n",
      "1      18/02/2022 01:00:00 AM              36.43\n",
      "2      18/02/2022 02:00:00 AM              36.36\n",
      "3      18/02/2022 03:00:00 AM              36.59\n",
      "4      18/02/2022 04:00:00 AM              38.60\n",
      "...                       ...                ...\n",
      "17252  06/02/2024 20:00:00 PM              34.93\n",
      "17253  06/02/2024 21:00:00 PM              32.97\n",
      "17254  06/02/2024 22:00:00 PM              30.20\n",
      "17255  06/02/2024 23:00:00 PM              27.97\n",
      "17256  07/02/2024 00:00:00 AM              28.31\n",
      "\n",
      "[17257 rows x 2 columns]\n"
     ]
    }
   ],
   "source": [
    "# Converting the column into date time\n",
    "historical_da_pivot.index = pd.to_datetime(historical_da_pivot.index)\n",
    "\n",
    "# The gen_outage dataframe has duplicate dates (rows) that and their values need to be averaged\n",
    "historical_da_pivot = historical_da_pivot.groupby(historical_da_pivot.index).mean()\n",
    "\n",
    "# The gen_outage dataframe has duplicate dates (rows) that and their values need to be averaged\n",
    "historical_da_pivot = historical_da_pivot.groupby(historical_da_pivot.index).mean()\n",
    "\n",
    "#Filtering out rows where the date is earlier than 2022\n",
    "historical_da_pivot = historical_da_pivot[historical_da_pivot.index.year >= 2022]\n",
    "\n",
    "# Set the 'datetime_beginning_ept' column as the index, resample to hourly increments, and forward fill the gas prices\n",
    "df_historical_da_resampled = historical_da_pivot.resample('H').ffill()\n",
    "\n",
    "# Reset the index to make 'datetime_beginning_ept' a column again\n",
    "df_historical_da_resampled.reset_index(inplace=True)\n",
    "\n",
    "# Convert the 'datetime_beginning_ept' column from datetime to string\n",
    "df_historical_da_resampled['datetime_beginning_ept'] = df_historical_da_resampled['datetime_beginning_ept'].dt.strftime('%d/%m/%Y %H:%M:%S %p')\n",
    "\n",
    "print(df_historical_da_resampled)"
   ]
  },
  {
   "cell_type": "markdown",
   "metadata": {},
   "source": [
    "### This module merges the dataframes into one"
   ]
  },
  {
   "cell_type": "code",
   "execution_count": 12,
   "metadata": {},
   "outputs": [
    {
     "name": "stdout",
     "output_type": "stream",
     "text": [
      "       datetime_beginning_ept  MIDATL_solar  OTHER_solar  RFC_solar  \\\n",
      "0      18/02/2022 00:00:00 AM         0.282          0.0      0.041   \n",
      "1      18/02/2022 01:00:00 AM         0.246          0.0     -0.006   \n",
      "2      18/02/2022 02:00:00 AM         0.300          0.0      0.060   \n",
      "3      18/02/2022 03:00:00 AM         0.254          0.0      0.015   \n",
      "4      18/02/2022 04:00:00 AM         0.270          0.0      0.034   \n",
      "...                       ...           ...          ...        ...   \n",
      "17251  06/02/2024 19:00:00 PM        -2.886          0.0     -5.653   \n",
      "17252  06/02/2024 20:00:00 PM        -1.944          0.0     -4.737   \n",
      "17253  06/02/2024 21:00:00 PM        -1.923          0.0     -3.733   \n",
      "17254  06/02/2024 22:00:00 PM        -1.954          0.0     -3.767   \n",
      "17255  06/02/2024 23:00:00 PM        -1.936          0.0     -5.747   \n",
      "\n",
      "       RTO_solar  SOUTH_solar  WEST_solar  MIDATL_wind  OTHER_wind  RFC_wind  \\\n",
      "0         -4.019       -4.061      -0.240      957.466         NaN  5625.364   \n",
      "1         -4.236       -4.230      -0.252      939.014         NaN  5291.098   \n",
      "2         -4.067       -4.128      -0.239      904.381         NaN  4676.792   \n",
      "3         -3.981       -3.996      -0.239      889.508         NaN  3968.681   \n",
      "4         -4.057       -4.092      -0.235      863.901         NaN  3413.737   \n",
      "...          ...          ...         ...          ...         ...       ...   \n",
      "17251    -10.544       -4.891      -2.767       61.862      32.860   724.760   \n",
      "17252     -9.863       -5.126      -2.793       53.747      32.555  1023.869   \n",
      "17253     -8.726       -4.993      -1.810       55.560      31.433  1273.961   \n",
      "17254     -8.710       -4.943      -1.813       41.071      29.998  1428.095   \n",
      "17255    -10.657       -4.910      -3.811       51.711      28.623  1894.910   \n",
      "\n",
      "       ...  DOM_forecast  DUQ_forecast  EKPC_forecast  MIDATL_forecast  \\\n",
      "0      ...   9663.600000   1254.400000    1313.600000     24893.800000   \n",
      "1      ...   9394.800000   1233.000000    1334.200000     24153.400000   \n",
      "2      ...   9239.400000   1224.200000    1365.400000     23656.600000   \n",
      "3      ...   9250.600000   1229.000000    1428.800000     23673.400000   \n",
      "4      ...   9458.500000   1270.166667    1537.000000     24108.166667   \n",
      "...    ...           ...           ...            ...              ...   \n",
      "17251  ...  16275.111111   1601.333333    1941.666667     36055.333333   \n",
      "17252  ...  16309.222222   1588.444444    1977.777778     35548.333333   \n",
      "17253  ...  16058.444444   1552.333333    1971.222222     34477.000000   \n",
      "17254  ...  15672.400000   1497.200000    1927.400000     32638.700000   \n",
      "17255  ...  15264.400000   1442.200000    1890.500000     31068.100000   \n",
      "\n",
      "        RTO_forecast  DPL_historical_da  forecast_gen_outage_mw_rto  \\\n",
      "0       78417.800000              38.95                 2928.770833   \n",
      "1       76642.200000              36.43                 2928.770833   \n",
      "2       75794.400000              36.36                 2928.770833   \n",
      "3       75983.400000              36.59                 2928.770833   \n",
      "4       77849.166667              38.60                 2928.770833   \n",
      "...              ...                ...                         ...   \n",
      "17251  104239.777778              38.47                 1981.593407   \n",
      "17252  103658.666667              34.93                 1981.593407   \n",
      "17253  101522.777778              32.97                 1981.593407   \n",
      "17254   97698.300000              30.20                 1981.593407   \n",
      "17255   94066.500000              27.97                 1981.593407   \n",
      "\n",
      "       forecast_gen_outage_mw_west  forecast_gen_outage_mw_other  \\\n",
      "0                       257.166667                   2671.604167   \n",
      "1                       257.166667                   2671.604167   \n",
      "2                       257.166667                   2671.604167   \n",
      "3                       257.166667                   2671.604167   \n",
      "4                       257.166667                   2671.604167   \n",
      "...                            ...                           ...   \n",
      "17251                   123.285714                   1858.307692   \n",
      "17252                   123.285714                   1858.307692   \n",
      "17253                   123.285714                   1858.307692   \n",
      "17254                   123.285714                   1858.307692   \n",
      "17255                   123.285714                   1858.307692   \n",
      "\n",
      "       Henry Hub Natural Gas Spot Price (Dollars per Million Btu)  \n",
      "0                                                   4.61           \n",
      "1                                                   4.61           \n",
      "2                                                   4.61           \n",
      "3                                                   4.61           \n",
      "4                                                   4.61           \n",
      "...                                                  ...           \n",
      "17251                                               2.10           \n",
      "17252                                               2.10           \n",
      "17253                                               2.10           \n",
      "17254                                               2.10           \n",
      "17255                                               2.10           \n",
      "\n",
      "[17256 rows x 29 columns]\n"
     ]
    }
   ],
   "source": [
    "# Merge the pivoted DataFrames along the dates\n",
    "merged_df = pd.merge(df_solar_resampled, df_wind_resampled, on='datetime_beginning_ept', suffixes=('_solar', '_wind'))\n",
    "\n",
    "merged_df = pd.merge(merged_df, df_forecast_resampled, on = 'datetime_beginning_ept')\n",
    "\n",
    "merged_df = pd.merge(merged_df, df_historical_da_resampled, on = 'datetime_beginning_ept')\n",
    "\n",
    "merged_df = pd.merge(merged_df, df_gen_outages_index, on = 'datetime_beginning_ept')\n",
    "\n",
    "merged_df = pd.merge(merged_df, df_gas_price_index, on = 'datetime_beginning_ept')\n",
    "\n",
    "print(merged_df)\n"
   ]
  }
 ],
 "metadata": {
  "kernelspec": {
   "display_name": "Python 3.11.5 ('base')",
   "language": "python",
   "name": "python3"
  },
  "language_info": {
   "codemirror_mode": {
    "name": "ipython",
    "version": 3
   },
   "file_extension": ".py",
   "mimetype": "text/x-python",
   "name": "python",
   "nbconvert_exporter": "python",
   "pygments_lexer": "ipython3",
   "version": "3.11.6"
  },
  "vscode": {
   "interpreter": {
    "hash": "791c8592c28610ae30b7495c568f893d54f80b51d9fb9ee3e87e9d9ab9ca5e13"
   }
  }
 },
 "nbformat": 4,
 "nbformat_minor": 2
}
