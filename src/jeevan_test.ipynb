{
 "cells": [
  {
   "cell_type": "code",
   "execution_count": 1,
   "metadata": {},
   "outputs": [],
   "source": [
    "from dotenv import load_dotenv\n",
    "import os\n",
    "from pymongo import MongoClient\n",
    "\n",
    "load_dotenv()\n",
    "cluster_uri = os.environ.get(\"MONGODB_URI\")\n",
    "client = MongoClient(cluster_uri)\n",
    "db = client[\"MSCI446_DB\"]\n",
    "collection = db[\"Load_Forecast\"]"
   ]
  },
  {
   "cell_type": "code",
   "execution_count": 9,
   "metadata": {},
   "outputs": [
    {
     "name": "stdout",
     "output_type": "stream",
     "text": [
      "  forecast_hour_beginning_ept forecast_area  forecast_load_mw\n",
      "0        1/1/2024 12:00:00 AM           AEP             14145\n",
      "1         1/1/2024 1:00:00 AM           AEP             13908\n",
      "2         1/1/2024 2:00:00 AM           AEP             13765\n",
      "3         1/1/2024 3:00:00 AM           AEP             13788\n",
      "4         1/1/2024 4:00:00 AM           AEP             13862\n"
     ]
    }
   ],
   "source": [
    "import pandas as pd\n",
    "\n",
    "documents = list(collection.find())\n",
    "\n",
    "# Convert the list of documents into a DataFrame\n",
    "df = pd.DataFrame(documents)\n",
    "\n",
    "# Optionally, you can drop the '_id' column if you don't need it\n",
    "df.drop('_id', axis=1, inplace=True)\n",
    "\n",
    "print(df.head())"
   ]
  },
  {
   "cell_type": "code",
   "execution_count": 3,
   "metadata": {},
   "outputs": [
    {
     "name": "stdout",
     "output_type": "stream",
     "text": [
      "  datetime_beginning_ept    area  solar_generation_mw\n",
      "0  2/28/2024 11:00:00 PM  MIDATL                  0.0\n",
      "1  2/28/2024 11:00:00 PM   OTHER                  0.0\n",
      "2  2/28/2024 11:00:00 PM     RFC                  0.0\n",
      "3  2/28/2024 11:00:00 PM     RTO                  0.0\n",
      "4  2/28/2024 11:00:00 PM   SOUTH                  0.0\n",
      "   datetime_beginning_ept    area  wind_generation_mw\n",
      "0  12/31/2020 11:00:00 PM  MIDATL             112.120\n",
      "1  12/31/2020 11:00:00 PM   SOUTH             156.846\n",
      "2  12/31/2020 11:00:00 PM    WEST            2130.528\n",
      "3  12/31/2020 11:00:00 PM     RTO            2399.494\n",
      "4  12/31/2020 11:00:00 PM     RFC            2242.648\n"
     ]
    }
   ],
   "source": [
    "collection_solar = db[\"Solar_Forecast\"]\n",
    "collection_wind = db[\"Wind_Forecast\"]\n",
    "documents_solar = list(collection_solar.find())\n",
    "documents_wind = list(collection_wind.find())\n",
    "df_solar = pd.DataFrame(documents_solar)\n",
    "df_wind = pd.DataFrame(documents_wind)\n",
    "df_solar.drop('_id', axis=1, inplace=True)\n",
    "df_wind.drop('_id', axis=1, inplace=True)\n",
    "\n",
    "print(df_solar.head())\n",
    "print(df_wind.head())"
   ]
  },
  {
   "cell_type": "code",
   "execution_count": 11,
   "metadata": {},
   "outputs": [
    {
     "name": "stdout",
     "output_type": "stream",
     "text": [
      "Unique areas in Solar Forecast table: ['MIDATL' 'OTHER' 'RFC' 'RTO' 'SOUTH' 'WEST']\n",
      "Unique areas in Wind Forecast table: ['MIDATL' 'SOUTH' 'WEST' 'RTO' 'RFC' 'OTHER']\n",
      "Unique areas in Load Forecast: ['AEP' 'APS' 'ATSI' 'COMED' 'DAY' 'DEOK' 'DOM' 'DUQ' 'EKPC' 'MIDATL' 'RTO']\n"
     ]
    }
   ],
   "source": [
    "# Assuming df_solar and df_wind are already created and the '_id' column is dropped\n",
    "\n",
    "# Get unique area values from the Solar Forecast table\n",
    "unique_areas_solar = df_solar['area'].unique()\n",
    "\n",
    "# Get unique area values from the Wind Forecast table\n",
    "unique_areas_wind = df_wind['area'].unique()\n",
    "\n",
    "\n",
    "unique_areas_load_forecast = df['forecast_area'].unique()\n",
    "\n",
    "# Print the unique area values\n",
    "print(\"Unique areas in Solar Forecast table:\", unique_areas_solar)\n",
    "print(\"Unique areas in Wind Forecast table:\", unique_areas_wind)\n",
    "print(\"Unique areas in Load Forecast:\", unique_areas_load_forecast)\n"
   ]
  },
  {
   "cell_type": "code",
   "execution_count": 7,
   "metadata": {},
   "outputs": [
    {
     "name": "stdout",
     "output_type": "stream",
     "text": [
      "   datetime_beginning_ept    area  wind_generation_mw\n",
      "0  12/31/2020 11:00:00 PM  MIDATL             112.120\n",
      "1  12/31/2020 11:00:00 PM   SOUTH             156.846\n",
      "2  12/31/2020 11:00:00 PM    WEST            2130.528\n",
      "3  12/31/2020 11:00:00 PM     RTO            2399.494\n",
      "4  12/31/2020 11:00:00 PM     RFC            2242.648\n"
     ]
    }
   ],
   "source": [
    "print(df_wind.head())"
   ]
  },
  {
   "cell_type": "code",
   "execution_count": null,
   "metadata": {},
   "outputs": [],
   "source": [
    "\n",
    "wind_pivot = df_wind.pivot(index='datetime_beginning_ept', columns='area', values='wind_generation_mw')\n",
    "solar_pivot = df_solar.pivot(index='datetime_beginning_ept', columns='area', values='solar_generation_mw')\n",
    "\n",
    "# Merge the pivoted DataFrames along the dates\n",
    "merged_df = pd.merge(solar_pivot, wind_pivot, on='datetime_beginning_ept', suffixes=('_solar', '_wind'))\n",
    "# merged_df = pd.merge(merged_df, solar_pivot, on='date', suffixes=('_wind', '_solar'))\n",
    "\n",
    "# Reset index to make 'date' a column\n",
    "merged_df.reset_index(inplace=True)\n",
    "\n",
    "# Rename the columns\n",
    "# merged_df.columns = ['Date', 'North-values_load_forecast', 'South-values_load_forecast', 'East-values_load_forecast',\n",
    "                    #  'Upper-belt-values_wind', 'Lower-belt-values_wind', 'Mid-belt-values_wind', 'Side-belt-values_wind',\n",
    "                    #  'Atlantic-values_solar', 'Pacific-values_solar']\n",
    "\n",
    "print(merged_df.head())"
   ]
  },
  {
   "cell_type": "code",
   "execution_count": null,
   "metadata": {},
   "outputs": [],
   "source": [
    "wind_duplicates = df_wind[df_wind.duplicated(keep=False)]\n",
    "\n",
    "print(wind_duplicates)\n"
   ]
  },
  {
   "cell_type": "code",
   "execution_count": null,
   "metadata": {},
   "outputs": [],
   "source": [
    "solar_duplicates = df_solar[df_solar.duplicated(keep=False)]\n",
    "\n",
    "print(solar_duplicates)"
   ]
  },
  {
   "cell_type": "code",
   "execution_count": 25,
   "metadata": {},
   "outputs": [
    {
     "name": "stdout",
     "output_type": "stream",
     "text": [
      "  datetime_beginning_ept  MIDATL_solar  OTHER_solar  RFC_solar  RTO_solar  \\\n",
      "0   1/1/2021 10:00:00 AM       158.206        5.057    178.491    356.255   \n",
      "1   1/1/2021 10:00:00 PM        -1.324       -0.020     -1.612     -4.765   \n",
      "2   1/1/2021 11:00:00 AM       141.946        4.618    158.202    379.477   \n",
      "3   1/1/2021 11:00:00 PM        -1.315       -0.020     -1.605     -4.888   \n",
      "4   1/1/2021 12:00:00 AM         2.147       -0.120      1.874     -1.019   \n",
      "\n",
      "   SOUTH_solar  WEST_solar  MIDATL_wind  OTHER_wind  RFC_wind  ...  \\\n",
      "0      177.764      20.285      692.726         NaN  4221.014  ...   \n",
      "1       -3.153      -0.288       69.161         NaN  2621.295  ...   \n",
      "2      221.275      16.256      582.513         NaN  3750.589  ...   \n",
      "3       -3.283      -0.290      105.647         NaN  2412.106  ...   \n",
      "4       -2.893      -0.273       99.408         NaN  2530.709  ...   \n",
      "\n",
      "   APS_forecast  ATSI_forecast  COMED_forecast  DAY_forecast  DEOK_forecast  \\\n",
      "0      6166.125       7122.000       10100.125      1895.875       2940.375   \n",
      "1      5715.700       6873.300       10638.500      1788.300       2706.400   \n",
      "2      6097.750       7149.125       10236.125      1888.500       2909.125   \n",
      "3      5462.300       6543.700       10187.800      1718.500       2577.900   \n",
      "4      5681.800       6732.400       10130.000      1779.000       2760.400   \n",
      "\n",
      "   DOM_forecast  DUQ_forecast  EKPC_forecast  MIDATL_forecast  RTO_forecast  \n",
      "0     12735.000      1461.250       1647.125         30730.00     89449.375  \n",
      "1     12093.900      1429.000       1410.700         30782.20     87372.600  \n",
      "2     12680.625      1469.125       1563.875         30806.25     89278.500  \n",
      "3     11477.200      1352.400       1335.800         28987.10     83077.600  \n",
      "4     10727.800      1342.400       1614.200         28088.00     82839.400  \n",
      "\n",
      "[5 rows x 24 columns]\n"
     ]
    }
   ],
   "source": [
    "# Renaming date-time column heading in load forecast df to common date-time column heading\n",
    "df.rename(columns={'forecast_hour_beginning_ept': 'datetime_beginning_ept'}, inplace=True)\n",
    "\n",
    "# Instead of dropping the duplicate rows, I just averaged them and since they're the same their value shouldn't change\n",
    "wind_pivot = df_wind.pivot_table(index='datetime_beginning_ept', columns='area', values='wind_generation_mw', aggfunc='mean')\n",
    "solar_pivot = df_solar.pivot_table(index='datetime_beginning_ept', columns='area', values='solar_generation_mw', aggfunc='mean')\n",
    "load_forecast_pivot = df.pivot_table(index='datetime_beginning_ept', columns ='forecast_area', values = 'forecast_load_mw', aggfunc = 'mean')\n",
    "\n",
    "# Renaming column headings to end in _forecast to differentiate from wind and solar columns\n",
    "load_forecast_pivot = load_forecast_pivot.rename(columns={col: f\"{col}_forecast\" for col in load_forecast_pivot.columns if col != 'datetime_beginning_ept'})\n",
    "\n",
    "# Merge the pivoted DataFrames along the dates\n",
    "merged_wind_solar_df = pd.merge(solar_pivot, wind_pivot, on='datetime_beginning_ept', suffixes=('_solar', '_wind'))\n",
    "# merged_df = pd.merge(merged_df, solar_pivot, on='date', suffixes=('_wind', '_solar'))\n",
    "\n",
    "merged_wind_solar_forecast_df = pd.merge(merged_wind_solar_df, load_forecast_pivot, on = 'datetime_beginning_ept', suffixes=('', ''))\n",
    "\n",
    "# Reset index to make 'date' a column\n",
    "merged_wind_solar_forecast_df.reset_index(inplace=True)\n",
    "\n",
    "# Rename the columns\n",
    "# merged_df.columns = ['Date', 'North-values_load_forecast', 'South-values_load_forecast', 'East-values_load_forecast',\n",
    "                    #  'Upper-belt-values_wind', 'Lower-belt-values_wind', 'Mid-belt-values_wind', 'Side-belt-values_wind',\n",
    "                    #  'Atlantic-values_solar', 'Pacific-values_solar']\n",
    "\n",
    "merged_wind_solar_forecast_df = df.clip(lower=0)\n",
    "\n",
    "print(merged_wind_solar_forecast_df.head())"
   ]
  }
 ],
 "metadata": {
  "kernelspec": {
   "display_name": "Python 3.11.5 ('base')",
   "language": "python",
   "name": "python3"
  },
  "language_info": {
   "codemirror_mode": {
    "name": "ipython",
    "version": 3
   },
   "file_extension": ".py",
   "mimetype": "text/x-python",
   "name": "python",
   "nbconvert_exporter": "python",
   "pygments_lexer": "ipython3",
   "version": "3.11.5"
  },
  "vscode": {
   "interpreter": {
    "hash": "791c8592c28610ae30b7495c568f893d54f80b51d9fb9ee3e87e9d9ab9ca5e13"
   }
  }
 },
 "nbformat": 4,
 "nbformat_minor": 2
}
