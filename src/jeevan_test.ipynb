{
 "cells": [
  {
   "cell_type": "code",
   "execution_count": null,
   "metadata": {},
   "outputs": [],
   "source": [
    "from dotenv import load_dotenv\n",
    "import os\n",
    "from pymongo import MongoClient\n",
    "\n",
    "load_dotenv()\n",
    "cluster_uri = os.environ.get(\"MONGODB_URI\")\n",
    "client = MongoClient(cluster_uri)\n",
    "db = client[\"MSCI446_DB\"]\n",
    "collection = db[\"Load_Forecast\"]"
   ]
  },
  {
   "cell_type": "code",
   "execution_count": null,
   "metadata": {},
   "outputs": [],
   "source": [
    "import pandas as pd\n",
    "\n",
    "documents = list(collection.find())\n",
    "\n",
    "# Convert the list of documents into a DataFrame\n",
    "df = pd.DataFrame(documents)\n",
    "\n",
    "# Optionally, you can drop the '_id' column if you don't need it\n",
    "df.drop('_id', axis=1, inplace=True)\n",
    "\n",
    "print(df.head())"
   ]
  },
  {
   "cell_type": "code",
   "execution_count": null,
   "metadata": {},
   "outputs": [],
   "source": [
    "collection_solar = db[\"Solar_Forecast\"]\n",
    "collection_wind = db[\"Wind_Forecast\"]\n",
    "documents_solar = list(collection_solar.find())\n",
    "documents_wind = list(collection_wind.find())\n",
    "df_solar = pd.DataFrame(documents_solar)\n",
    "df_wind = pd.DataFrame(documents_wind)\n",
    "df_solar.drop('_id', axis=1, inplace=True)\n",
    "df_wind.drop('_id', axis=1, inplace=True)\n",
    "\n",
    "print(df_solar.head())\n",
    "print(df_wind.head())"
   ]
  },
  {
   "cell_type": "code",
   "execution_count": null,
   "metadata": {},
   "outputs": [],
   "source": [
    "# Assuming df_solar and df_wind are already created and the '_id' column is dropped\n",
    "\n",
    "# Get unique area values from the Solar Forecast table\n",
    "unique_areas_solar = df_solar['area'].unique()\n",
    "\n",
    "# Get unique area values from the Wind Forecast table\n",
    "unique_areas_wind = df_wind['area'].unique()\n",
    "\n",
    "# Print the unique area values\n",
    "print(\"Unique areas in Solar Forecast table:\", unique_areas_solar)\n",
    "print(\"Unique areas in Wind Forecast table:\", unique_areas_wind)\n"
   ]
  },
  {
   "cell_type": "code",
   "execution_count": null,
   "metadata": {},
   "outputs": [],
   "source": [
    "\n",
    "for document in collection.find():\n",
    "    print(document)"
   ]
  },
  {
   "cell_type": "code",
   "execution_count": null,
   "metadata": {},
   "outputs": [],
   "source": []
  },
  {
   "cell_type": "code",
   "execution_count": null,
   "metadata": {},
   "outputs": [],
   "source": []
  }
 ],
 "metadata": {
  "kernelspec": {
   "display_name": "venv",
   "language": "python",
   "name": "python3"
  },
  "language_info": {
   "codemirror_mode": {
    "name": "ipython",
    "version": 3
   },
   "file_extension": ".py",
   "mimetype": "text/x-python",
   "name": "python",
   "nbconvert_exporter": "python",
   "pygments_lexer": "ipython3",
   "version": "3.11.6"
  }
 },
 "nbformat": 4,
 "nbformat_minor": 2
}
